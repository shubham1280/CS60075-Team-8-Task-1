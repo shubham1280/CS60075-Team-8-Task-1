{
 "cells": [
  {
   "cell_type": "code",
   "execution_count": 13,
   "metadata": {
    "scrolled": true
   },
   "outputs": [
    {
     "name": "stdout",
     "output_type": "stream",
     "text": [
      "Requirement already satisfied: wordfreq in /home/ravi-pg/myenv/lib/python3.6/site-packages (2.4.2)\n",
      "Requirement already satisfied: regex>=2020.04.04 in /home/ravi-pg/myenv/lib/python3.6/site-packages (from wordfreq) (2020.10.23)\n",
      "Requirement already satisfied: langcodes>=3.0 in /home/ravi-pg/myenv/lib/python3.6/site-packages (from wordfreq) (3.1.0)\n",
      "Requirement already satisfied: msgpack>=1.0 in /home/ravi-pg/myenv/lib/python3.6/site-packages (from wordfreq) (1.0.2)\n",
      "Requirement already satisfied: transformers in /home/ravi-pg/myenv/lib/python3.6/site-packages (4.3.2)\n",
      "Requirement already satisfied: numpy>=1.17 in /home/ravi-pg/myenv/lib/python3.6/site-packages (from transformers) (1.19.1)\n",
      "Requirement already satisfied: importlib-metadata in /home/ravi-pg/myenv/lib/python3.6/site-packages (from transformers) (1.7.0)\n",
      "Requirement already satisfied: tokenizers<0.11,>=0.10.1 in /home/ravi-pg/myenv/lib/python3.6/site-packages (from transformers) (0.10.1)\n",
      "Requirement already satisfied: packaging in /home/ravi-pg/myenv/lib/python3.6/site-packages (from transformers) (20.4)\n",
      "Requirement already satisfied: tqdm>=4.27 in /home/ravi-pg/myenv/lib/python3.6/site-packages (from transformers) (4.48.2)\n",
      "Requirement already satisfied: dataclasses in /home/ravi-pg/myenv/lib/python3.6/site-packages (from transformers) (0.7)\n",
      "Requirement already satisfied: sacremoses in /home/ravi-pg/myenv/lib/python3.6/site-packages (from transformers) (0.0.43)\n",
      "Requirement already satisfied: filelock in /home/ravi-pg/myenv/lib/python3.6/site-packages (from transformers) (3.0.12)\n",
      "Requirement already satisfied: requests in /home/ravi-pg/myenv/lib/python3.6/site-packages (from transformers) (2.24.0)\n",
      "Requirement already satisfied: regex!=2019.12.17 in /home/ravi-pg/myenv/lib/python3.6/site-packages (from transformers) (2020.10.23)\n",
      "Requirement already satisfied: zipp>=0.5 in /home/ravi-pg/myenv/lib/python3.6/site-packages (from importlib-metadata->transformers) (3.1.0)\n",
      "Requirement already satisfied: pyparsing>=2.0.2 in /home/ravi-pg/myenv/lib/python3.6/site-packages (from packaging->transformers) (2.4.7)\n",
      "Requirement already satisfied: six in /home/ravi-pg/myenv/lib/python3.6/site-packages (from packaging->transformers) (1.15.0)\n",
      "Requirement already satisfied: urllib3!=1.25.0,!=1.25.1,<1.26,>=1.21.1 in /home/ravi-pg/myenv/lib/python3.6/site-packages (from requests->transformers) (1.25.10)\n",
      "Requirement already satisfied: chardet<4,>=3.0.2 in /home/ravi-pg/myenv/lib/python3.6/site-packages (from requests->transformers) (3.0.4)\n",
      "Requirement already satisfied: idna<3,>=2.5 in /home/ravi-pg/myenv/lib/python3.6/site-packages (from requests->transformers) (2.10)\n",
      "Requirement already satisfied: certifi>=2017.4.17 in /home/ravi-pg/myenv/lib/python3.6/site-packages (from requests->transformers) (2020.6.20)\n",
      "Requirement already satisfied: click in /home/ravi-pg/myenv/lib/python3.6/site-packages (from sacremoses->transformers) (7.1.2)\n",
      "Requirement already satisfied: joblib in /home/ravi-pg/myenv/lib/python3.6/site-packages (from sacremoses->transformers) (0.16.0)\n",
      "Collecting gensim\n",
      "  Downloading gensim-4.0.1-cp36-cp36m-manylinux1_x86_64.whl (23.9 MB)\n",
      "\u001b[K     |████████████████████████████████| 23.9 MB 1.0 MB/s eta 0:00:01�███████▍                  | 10.0 MB 1.0 MB/s eta 0:00:14\n",
      "\u001b[?25hRequirement already satisfied: numpy>=1.11.3 in /home/ravi-pg/myenv/lib/python3.6/site-packages (from gensim) (1.19.1)\n",
      "Requirement already satisfied: scipy>=0.18.1 in /home/ravi-pg/myenv/lib/python3.6/site-packages (from gensim) (1.5.2)\n",
      "Collecting smart-open>=1.8.1\n",
      "  Downloading smart_open-5.0.0-py3-none-any.whl (56 kB)\n",
      "\u001b[K     |████████████████████████████████| 56 kB 7.2 MB/s  eta 0:00:01\n",
      "\u001b[?25hRequirement already satisfied: dataclasses in /home/ravi-pg/myenv/lib/python3.6/site-packages (from gensim) (0.7)\n",
      "Installing collected packages: smart-open, gensim\n",
      "Successfully installed gensim-4.0.1 smart-open-5.0.0\n"
     ]
    }
   ],
   "source": [
    "!pip install wordfreq\n",
    "!pip install transformers\n",
    "!pip install gensim"
   ]
  },
  {
   "cell_type": "code",
   "execution_count": 4,
   "metadata": {
    "id": "efz24fK1rppx",
    "outputId": "820b722f-abd9-4072-9464-caec85498f02"
   },
   "outputs": [
    {
     "name": "stderr",
     "output_type": "stream",
     "text": [
      "[nltk_data] Downloading package wordnet to /home/ravi-pg/nltk_data...\n",
      "[nltk_data]   Unzipping corpora/wordnet.zip.\n",
      "[nltk_data] Downloading package punkt to /home/ravi-pg/nltk_data...\n",
      "[nltk_data]   Package punkt is already up-to-date!\n",
      "[nltk_data] Downloading package stopwords to /home/ravi-\n",
      "[nltk_data]     pg/nltk_data...\n",
      "[nltk_data]   Unzipping corpora/stopwords.zip.\n",
      "[nltk_data] Downloading package averaged_perceptron_tagger to\n",
      "[nltk_data]     /home/ravi-pg/nltk_data...\n",
      "[nltk_data]   Unzipping taggers/averaged_perceptron_tagger.zip.\n",
      "[nltk_data] Downloading package words to /home/ravi-pg/nltk_data...\n",
      "[nltk_data]   Unzipping corpora/words.zip.\n"
     ]
    }
   ],
   "source": [
    "import numpy as np\n",
    "import pandas as pd\n",
    "import nltk\n",
    "import torch\n",
    "import torch.nn as nn\n",
    "import torch.optim as optim\n",
    "nltk.download('wordnet')\n",
    "nltk.download('punkt')\n",
    "nltk.download('stopwords')\n",
    "nltk.download('averaged_perceptron_tagger')\n",
    "nltk.download('words')\n",
    "from nltk.tokenize import WordPunctTokenizer\n",
    "from nltk.corpus import wordnet as wn\n",
    "from nltk.tokenize import RegexpTokenizer\n",
    "from nltk.corpus import stopwords\n",
    "from nltk.stem import WordNetLemmatizer\n",
    "from nltk.wsd import lesk\n",
    "from transformers import BertModel, BertTokenizer, RobertaModel,RobertaTokenizer\n",
    "from tqdm.auto import tqdm\n",
    "from decimal import Decimal\n",
    "from wordfreq import word_frequency,zipf_frequency\n",
    "tqdm.pandas()\n",
    "from nltk.wsd import lesk\n",
    "\n"
   ]
  },
  {
   "cell_type": "code",
   "execution_count": 5,
   "metadata": {},
   "outputs": [],
   "source": [
    "from nltk.stem import WordNetLemmatizer\n",
    "lemmatizer = WordNetLemmatizer()"
   ]
  },
  {
   "cell_type": "code",
   "execution_count": 6,
   "metadata": {},
   "outputs": [],
   "source": [
    "import spacy\n",
    "nlp=spacy.load('en_core_web_sm')\n",
    "\n",
    "nlp.tokenizer = nlp.tokenizer.tokens_from_list\n",
    "nltk_tokenizer = RegexpTokenizer(r'[a-zA-Z]+')\n"
   ]
  },
  {
   "cell_type": "code",
   "execution_count": 7,
   "metadata": {},
   "outputs": [],
   "source": [
    "from torch.utils.data import DataLoader,Dataset\n",
    "from sklearn.decomposition import PCA\n",
    "from scipy.stats import pearsonr,spearmanr\n",
    "evaluator0 = pearsonr\n",
    "evaluator1 = spearmanr"
   ]
  },
  {
   "cell_type": "code",
   "execution_count": 8,
   "metadata": {
    "id": "P2h1dPrfiJH_"
   },
   "outputs": [
    {
     "name": "stdout",
     "output_type": "stream",
     "text": [
      "using cuda:1\n"
     ]
    }
   ],
   "source": [
    "if torch.cuda.is_available():\n",
    "    device = \"cuda:1\"\n",
    "else:\n",
    "    device = \"cpu\"\n",
    "\n",
    "print(f\"using {device}\")"
   ]
  },
  {
   "cell_type": "code",
   "execution_count": 9,
   "metadata": {
    "id": "r-eTRjLmGkIs"
   },
   "outputs": [],
   "source": [
    "#Config params\n",
    "class CFG():\n",
    "  def __init__(self):\n",
    "    self.batch_sz =256\n",
    "    self.embed_dim = 4*768\n",
    "#     self.pca_dim = 256\n",
    "    self.lr = 1e-5\n",
    "    self.niter = 200\n",
    "    self.alpha = 1\n",
    "    self.feature_dim = 0\n",
    "    self.dropout = 0.2\n",
    "    self.classes = 10\n",
    "    self.label_smooth = 0.1\n",
    "    self.beta = 10\n",
    "    self.w2v_dim = 250\n",
    "cfg = CFG()    "
   ]
  },
  {
   "cell_type": "code",
   "execution_count": 14,
   "metadata": {},
   "outputs": [
    {
     "name": "stderr",
     "output_type": "stream",
     "text": [
      "/home/ravi-pg/myenv/lib/python3.6/site-packages/gensim/similarities/__init__.py:15: UserWarning: The gensim.similarities.levenshtein submodule is disabled, because the optional Levenshtein package <https://pypi.org/project/python-Levenshtein/> is unavailable. Install Levenhstein (e.g. `pip install python-Levenshtein`) to suppress this warning.\n",
      "  warnings.warn(msg)\n"
     ]
    }
   ],
   "source": [
    "from gensim.test.utils import datapath\n",
    "from gensim import utils\n",
    "\n",
    "class MyCorpus:\n",
    "    \"\"\"An iterator that yields sentences (lists of str).\"\"\"\n",
    "\n",
    "    def __iter__(self):\n",
    "        corpus_path = '../nlp_corpus.txt'\n",
    "        for line in open(corpus_path):\n",
    "            # assume there's one document per line, tokens separated by whitespace\n",
    "            yield utils.simple_preprocess(line)"
   ]
  },
  {
   "cell_type": "code",
   "execution_count": 16,
   "metadata": {},
   "outputs": [],
   "source": [
    "import gensim.models\n",
    "\n",
    "## training Word2Vec\n",
    "#sentences = MyCorpus()\n",
    "#w2v_model = gensim.models.Word2Vec(sentences=sentences, vector_size=cfg.w2v_dim, window=35, min_count=2, workers=4)\n",
    "#w2v_model.save(\"../saved_models/word2vec_250_35.model\")\n",
    "\n",
    "w2v_model = gensim.models.Word2Vec.load(\"../saved_models/word2vec.model\")"
   ]
  },
  {
   "cell_type": "code",
   "execution_count": 20,
   "metadata": {
    "id": "BuFfjaaKvdtA",
    "outputId": "164d3e00-1feb-4e62-a9c7-65f62b3b1d8c"
   },
   "outputs": [],
   "source": [
    "def make_df(path):\n",
    "    df = pd.DataFrame(columns=['id', 'corpus', 'sentence', 'token', 'complexity'])\n",
    "    with open(path) as fd:\n",
    "        lines = fd.readlines()\n",
    "        print(len(lines))\n",
    "        for i,row in tqdm(enumerate(lines[1:]),total=len(lines)):\n",
    "          data = row.strip().split('\\t')\n",
    "          ent = {'id':data[0],'corpus':data[1],'sentence':data[2],'token':data[3],'complexity':float(data[4])}\n",
    "          df.loc[i] = ent\n",
    "    return df    "
   ]
  },
  {
   "cell_type": "code",
   "execution_count": 21,
   "metadata": {
    "id": "3NJQPk-Dn15u",
    "outputId": "083018c4-31c2-449f-b8a1-01b41535f6ef"
   },
   "outputs": [
    {
     "name": "stdout",
     "output_type": "stream",
     "text": [
      "1518\n"
     ]
    },
    {
     "data": {
      "application/vnd.jupyter.widget-view+json": {
       "model_id": "2f30087a8c6c4f45ab03467cef9ff5c2",
       "version_major": 2,
       "version_minor": 0
      },
      "text/plain": [
       "HBox(children=(FloatProgress(value=1.0, bar_style='info', layout=Layout(width='20px'), max=1.0), HTML(value=''…"
      ]
     },
     "metadata": {},
     "output_type": "display_data"
    },
    {
     "name": "stdout",
     "output_type": "stream",
     "text": [
      "\n",
      "100\n"
     ]
    },
    {
     "data": {
      "application/vnd.jupyter.widget-view+json": {
       "model_id": "100687fcadfb4d4a9bae9487fefef82b",
       "version_major": 2,
       "version_minor": 0
      },
      "text/plain": [
       "HBox(children=(FloatProgress(value=1.0, bar_style='info', layout=Layout(width='20px'), max=1.0), HTML(value=''…"
      ]
     },
     "metadata": {},
     "output_type": "display_data"
    },
    {
     "name": "stdout",
     "output_type": "stream",
     "text": [
      "\n",
      "185\n"
     ]
    },
    {
     "data": {
      "application/vnd.jupyter.widget-view+json": {
       "model_id": "cd7da813c9ae44d3b9c76d3eebcdd95a",
       "version_major": 2,
       "version_minor": 0
      },
      "text/plain": [
       "HBox(children=(FloatProgress(value=1.0, bar_style='info', layout=Layout(width='20px'), max=1.0), HTML(value=''…"
      ]
     },
     "metadata": {},
     "output_type": "display_data"
    },
    {
     "name": "stdout",
     "output_type": "stream",
     "text": [
      "\n"
     ]
    }
   ],
   "source": [
    "train_df = make_df(\"../train/lcp_multi_train.tsv\")\n",
    "valid_df = make_df(\"../trial/lcp_multi_trial.tsv\")\n",
    "test_df = make_df(\"../test-labels/lcp_multi_test.tsv\")"
   ]
  },
  {
   "cell_type": "code",
   "execution_count": 22,
   "metadata": {},
   "outputs": [],
   "source": [
    "def syllable_count(word):\n",
    "    word = word.lower()\n",
    "    count = 0\n",
    "    vowels = \"aeiouy\"\n",
    "    if word[0] in vowels:\n",
    "        count += 1\n",
    "    for index in range(1, len(word)):\n",
    "        if word[index] in vowels and word[index - 1] not in vowels:\n",
    "            count += 1\n",
    "    if word.endswith(\"e\"):\n",
    "        count -= 1\n",
    "    if count == 0:\n",
    "        count += 1\n",
    "    return count"
   ]
  },
  {
   "cell_type": "code",
   "execution_count": 23,
   "metadata": {},
   "outputs": [],
   "source": [
    "def get_feature_vector(sent,target1,target2):\n",
    "    \n",
    "    #---------------------------------------TARGET1--------------------------------------#\n",
    "    #dependency parsing\n",
    "    target_synsets = 0\n",
    "    no_of_dep = 0\n",
    "    dep_synset_avg = 0\n",
    "    head_synset = 0\n",
    "    syll_cnt = syllable_count(target1)\n",
    "    nltk_tokens = nltk_tokenizer.tokenize(sent)\n",
    "    for token in nlp(nltk_tokens):\n",
    "        if token.text == target1:\n",
    "            target_synsets = len(wn.synsets(target1))\n",
    "            no_of_dep = len(list(token.children))\n",
    "            head_synset = len(wn.synsets(token.head.text))\n",
    "            if no_of_dep:\n",
    "                for i in token.children:\n",
    "                    dep_synset_avg += len(wn.synsets(i.text))\n",
    "                dep_synset_avg /= no_of_dep\n",
    "    \n",
    "    \n",
    "    #---------------------------------finding relative freq----------------------------#\n",
    "    word_freq = word_frequency(target1, lang='en',wordlist = 'large', minimum=0.0)\n",
    "    syn_freq = 0\n",
    "    synset = lesk(sent, target1)\n",
    "    synonym_list = None\n",
    "    if synset is not None:\n",
    "        synonym_list =synset.lemma_names()\n",
    "    \n",
    "    lb_freq = word_freq;ub_freq=word_freq\n",
    "    \n",
    "    if synonym_list!=None:\n",
    "        for w in synonym_list:\n",
    "            freq = word_frequency(w,lang='en',wordlist = 'large',minimum=0.0)\n",
    "            lb_freq = min(lb_freq,freq)\n",
    "            ub_freq = max(ub_freq,freq)\n",
    "    \n",
    "    rel_freq = np.exp(-(ub_freq-word_freq)/(ub_freq-lb_freq+ 1e-7))\n",
    "    hypernym_sim =0 \n",
    "    hyponym_sim = 0 \n",
    "    wsd = lesk(sent, target1)\n",
    "    cnt_0 =0 ;cnt_1=0\n",
    "    if wsd:\n",
    "        \n",
    "        for hyper in wsd.hypernyms():\n",
    "            cnt_0+=1\n",
    "            hypernym_sim += wsd.wup_similarity(hyper)\n",
    "        if cnt_0:\n",
    "            hypernym_sim /= cnt_0\n",
    "        \n",
    "        for hypo in wsd.hyponyms():\n",
    "            cnt_1+=1\n",
    "            hyponym_sim += wsd.wup_similarity(hypo)\n",
    "        if cnt_1:\n",
    "            hyponym_sim /= cnt_1\n",
    "        \n",
    "    word_len = len(target1)/50\n",
    "    lemmatized_len = (len(target1)-len(lemmatizer.lemmatize(target1)))/40\n",
    "    try:\n",
    "        wv = list(w2v_model.wv[target1])\n",
    "    except KeyError:\n",
    "        wv = [0]*cfg.w2v_dim\n",
    "    feature_vec1 = cfg.alpha*torch.tensor(wv+\n",
    "                                          [word_freq,\n",
    "                                           #lb_freq,\n",
    "                                           #ub_freq,\n",
    "                                           syll_cnt,\n",
    "                                           rel_freq,\n",
    "                                           hypernym_sim,\n",
    "                                           word_len,\n",
    "                                           hyponym_sim,\n",
    "                                           cnt_0,\n",
    "                                           cnt_1,\n",
    "                                           target_synsets,\n",
    "                                           no_of_dep,\n",
    "                                           dep_synset_avg,\n",
    "                                           head_synset,\n",
    "                                           lemmatized_len]).to(device)\n",
    "    \n",
    "    if target1==target2: return feature_vec1\n",
    "    #----------------------------------------TARGET2----------------------------------------------#\n",
    "    \n",
    "    #dependency parsing\n",
    "    target_synsets = 0\n",
    "    no_of_dep = 0\n",
    "    dep_synset_avg = 0\n",
    "    head_synset = 0\n",
    "    syll_cnt = syllable_count(target2)\n",
    "    nltk_tokens = nltk_tokenizer.tokenize(sent)\n",
    "    for token in nlp(nltk_tokens):\n",
    "        if token.text == target2:\n",
    "            target_synsets = len(wn.synsets(target2))\n",
    "            no_of_dep = len(list(token.children))\n",
    "            head_synset = len(wn.synsets(token.head.text))\n",
    "            if no_of_dep:\n",
    "                for i in token.children:\n",
    "                    dep_synset_avg += len(wn.synsets(i.text))\n",
    "                dep_synset_avg /=no_of_dep\n",
    "    \n",
    "    \n",
    "    #---------------------------------finding relative freq----------------------------#\n",
    "    word_freq = word_frequency(target2, lang='en',wordlist = 'large', minimum=0.0)\n",
    "    syn_freq = 0\n",
    "    synset = lesk(sent, target2)\n",
    "    synonym_list = None\n",
    "    if synset is not None:\n",
    "        synonym_list =synset.lemma_names()\n",
    "    \n",
    "    lb_freq = word_freq;ub_freq=word_freq\n",
    "    \n",
    "    if synonym_list!=None:\n",
    "        for w in synonym_list:\n",
    "            freq = word_frequency(w,lang='en',wordlist = 'large',minimum=0.0)\n",
    "            lb_freq = min(lb_freq,freq)\n",
    "            ub_freq = max(ub_freq,freq)\n",
    "    \n",
    "    rel_freq = np.exp(-(ub_freq-word_freq)/(ub_freq-lb_freq+ 1e-7))\n",
    "    hypernym_sim =0 \n",
    "    hyponym_sim = 0 \n",
    "    wsd = lesk(sent, target2)\n",
    "    cnt_0 =0 ;cnt_1=0\n",
    "    if wsd:\n",
    "        \n",
    "        for hyper in wsd.hypernyms():\n",
    "            cnt_0+=1\n",
    "            hypernym_sim += wsd.wup_similarity(hyper)\n",
    "        if cnt_0:\n",
    "            hypernym_sim /= cnt_0\n",
    "        \n",
    "        for hypo in wsd.hyponyms():\n",
    "            cnt_1+=1\n",
    "            hyponym_sim += wsd.wup_similarity(hypo)\n",
    "        if cnt_1:\n",
    "            hyponym_sim /= cnt_1\n",
    "        \n",
    "    word_len = len(target2)/50\n",
    "    lemmatized_len = (len(target2)-len(lemmatizer.lemmatize(target2)))/40\n",
    "    try:\n",
    "        wv = list(w2v_model.wv[target2])\n",
    "    except KeyError:\n",
    "        wv = [0]*cfg.w2v_dim\n",
    "    feature_vec2 = cfg.alpha*torch.tensor(wv+\n",
    "                                          [word_freq,\n",
    "                                           #lb_freq,\n",
    "                                           #ub_freq,\n",
    "                                           syll_cnt,\n",
    "                                           rel_freq,\n",
    "                                           hypernym_sim,\n",
    "                                           word_len,\n",
    "                                           hyponym_sim,\n",
    "                                           cnt_0,\n",
    "                                           cnt_1,\n",
    "                                           target_synsets,\n",
    "                                           no_of_dep,\n",
    "                                           dep_synset_avg,\n",
    "                                           head_synset,\n",
    "                                           lemmatized_len]).to(device)\n",
    "    \n",
    "    \n",
    "    final_emb = torch.cat((feature_vec1,feature_vec2),dim=0)\n",
    "    return final_emb"
   ]
  },
  {
   "cell_type": "code",
   "execution_count": 24,
   "metadata": {
    "id": "KcVVMN8eDta4"
   },
   "outputs": [],
   "source": [
    "class CustomDataset(Dataset):\n",
    "  def __init__(self,df):\n",
    "    self.data=[]\n",
    "    ct = 0\n",
    "    for i in tqdm(range(len(df))):\n",
    "        try:\n",
    "            target1 = df.loc[i]['token'].lower().strip().split(' ')[0]\n",
    "            target2 = df.loc[i]['token'].lower().strip().split(' ')[1]\n",
    "\n",
    "            emb = get_feature_vector(df.loc[i]['sentence'],target1,target2)\n",
    "            complexity = torch.tensor(df.loc[i]['complexity']).to(device)\n",
    "            self.data.append([emb,complexity])\n",
    "        except KeyError:\n",
    "            ct += 1\n",
    "            continue\n",
    "    print(ct)\n",
    "  def __len__(self):\n",
    "    return len(self.data)\n",
    "  def __getitem__(self,idx):\n",
    "    return self.data[idx][0],self.data[idx][1]"
   ]
  },
  {
   "cell_type": "code",
   "execution_count": 16,
   "metadata": {},
   "outputs": [
    {
     "data": {
      "application/vnd.jupyter.widget-view+json": {
       "model_id": "b8e19b5c442946cbae685030a8a9885c",
       "version_major": 2,
       "version_minor": 0
      },
      "text/plain": [
       "  0%|          | 0/1517 [00:00<?, ?it/s]"
      ]
     },
     "metadata": {},
     "output_type": "display_data"
    },
    {
     "name": "stdout",
     "output_type": "stream",
     "text": [
      "0\n"
     ]
    },
    {
     "data": {
      "application/vnd.jupyter.widget-view+json": {
       "model_id": "939258388cf344cda35de388aec55284",
       "version_major": 2,
       "version_minor": 0
      },
      "text/plain": [
       "  0%|          | 0/99 [00:00<?, ?it/s]"
      ]
     },
     "metadata": {},
     "output_type": "display_data"
    },
    {
     "name": "stdout",
     "output_type": "stream",
     "text": [
      "0\n"
     ]
    },
    {
     "data": {
      "application/vnd.jupyter.widget-view+json": {
       "model_id": "71123351fb344131acb146603f6df72a",
       "version_major": 2,
       "version_minor": 0
      },
      "text/plain": [
       "  0%|          | 0/184 [00:00<?, ?it/s]"
      ]
     },
     "metadata": {},
     "output_type": "display_data"
    },
    {
     "name": "stdout",
     "output_type": "stream",
     "text": [
      "0\n"
     ]
    }
   ],
   "source": [
    "train_dataset1 = CustomDataset(train_df)\n",
    "valid_dataset1 = CustomDataset(valid_df)\n",
    "test_dataset1 = CustomDataset(test_df)"
   ]
  },
  {
   "cell_type": "code",
   "execution_count": 17,
   "metadata": {},
   "outputs": [],
   "source": [
    "X_train = []\n",
    "y_train = []\n",
    "for b in train_dataset1:\n",
    "    X_train.append(b[0].cpu().numpy())\n",
    "    y_train.append(b[1].cpu().numpy())\n",
    "X_train = np.array(X_train)\n",
    "y_train = np.array(y_train)\n",
    "\n",
    "X_valid = []\n",
    "y_valid = []\n",
    "for b in valid_dataset1:\n",
    "    X_valid.append(b[0].cpu().numpy())\n",
    "    y_valid.append(b[1].cpu().numpy())\n",
    "X_valid = np.array(X_valid)    \n",
    "y_valid = np.array(y_valid)\n",
    "\n",
    "X_test = []\n",
    "y_test = []\n",
    "for b in test_dataset1:\n",
    "    X_test.append(b[0].cpu().numpy())\n",
    "    y_test.append(b[1].cpu().numpy())\n",
    "X_test = np.array(X_test)    \n",
    "y_test = np.array(y_test)"
   ]
  },
  {
   "cell_type": "code",
   "execution_count": 18,
   "metadata": {},
   "outputs": [
    {
     "data": {
      "text/plain": [
       "StackingRegressor(estimators=[('regr1',\n",
       "                               XGBRegressor(base_score=None, booster=None,\n",
       "                                            colsample_bylevel=None,\n",
       "                                            colsample_bynode=None,\n",
       "                                            colsample_bytree=None, gamma=None,\n",
       "                                            gpu_id=None, importance_type='gain',\n",
       "                                            interaction_constraints=None,\n",
       "                                            learning_rate=None,\n",
       "                                            max_delta_step=None, max_depth=None,\n",
       "                                            min_child_weight=None, missing=nan,\n",
       "                                            monotone_constraints=None,\n",
       "                                            n_estimators=12, n_jobs=None,\n",
       "                                            num_parallel_tree=None,\n",
       "                                            random_state=None, reg_alpha=None,\n",
       "                                            reg_lambda=None,\n",
       "                                            scale_pos_weight=None, seed=42,\n",
       "                                            subsample=None, tree_method=None,\n",
       "                                            validate_parameters=None,\n",
       "                                            verbosity=None)),\n",
       "                              ('regr2', AdaBoostRegressor(random_state=42)),\n",
       "                              ('regr3',\n",
       "                               GradientBoostingRegressor(random_state=42))])"
      ]
     },
     "execution_count": 18,
     "metadata": {},
     "output_type": "execute_result"
    }
   ],
   "source": [
    "import xgboost as xg\n",
    "from sklearn.svm import SVR\n",
    "from tpot import TPOTRegressor\n",
    "from sklearn.ensemble import GradientBoostingClassifier,GradientBoostingRegressor,AdaBoostRegressor,StackingRegressor\n",
    "from sklearn.linear_model import LinearRegression\n",
    "from sklearn.preprocessing import StandardScaler\n",
    "from sklearn.model_selection import GridSearchCV\n",
    "scaler = StandardScaler()\n",
    "X_train_norm = scaler.fit_transform(X_train)\n",
    "estimators = [('regr1',xg.XGBRegressor(n_estimators = 12, seed = 42)),\n",
    "              ('regr2',AdaBoostRegressor(random_state=42)),\n",
    "              ('regr3',GradientBoostingRegressor(random_state=42))]\n",
    "\n",
    "regr = StackingRegressor(estimators)\n",
    "regr.fit(X_train_norm,y_train)\n"
   ]
  },
  {
   "cell_type": "code",
   "execution_count": 19,
   "metadata": {},
   "outputs": [
    {
     "data": {
      "text/plain": [
       "(0.7480284323349645, 5.744864009343269e-19)"
      ]
     },
     "execution_count": 19,
     "metadata": {},
     "output_type": "execute_result"
    }
   ],
   "source": [
    "preds1_v = regr.predict(scaler.transform(X_valid))\n",
    "print('trial score for non-contextual:',evaluator0(preds1_v,y_valid))"
   ]
  },
  {
   "cell_type": "code",
   "execution_count": 20,
   "metadata": {},
   "outputs": [
    {
     "data": {
      "text/plain": [
       "(0.7845329941488527, 1.2636356912158176e-39)"
      ]
     },
     "execution_count": 20,
     "metadata": {},
     "output_type": "execute_result"
    }
   ],
   "source": [
    "preds1_t = regr.predict(scaler.transform(X_test))\n",
    "print('test score for non-contextual:',evaluator0(preds1_t,y_test))"
   ]
  },
  {
   "cell_type": "markdown",
   "metadata": {},
   "source": [
    "Bert Based Ordinal"
   ]
  },
  {
   "cell_type": "code",
   "execution_count": 215,
   "metadata": {},
   "outputs": [],
   "source": [
    "def get_embedding_pipeline(sent,target1,target2,bert_tokenizer,model):\n",
    "  nltk_tokenizer = RegexpTokenizer(r'[a-zA-Z]+')\n",
    "    \n",
    "  nltk_tokens = nltk_tokenizer.tokenize(sent)\n",
    "  word2berttokens = {}\n",
    "  final_tokens = ['[CLS]']\n",
    "  for token in nltk_tokens:\n",
    "    tokenized_text = bert_tokenizer.tokenize(token)\n",
    "    word2berttokens[token] = tokenized_text\n",
    "    final_tokens += tokenized_text\n",
    "  final_tokens += ['[SEP]']\n",
    "  indexed_tokens = bert_tokenizer.convert_tokens_to_ids(final_tokens)\n",
    "  tokens_tensor = torch.tensor([indexed_tokens]).to(device)\n",
    "  tok2idx = dict(zip(final_tokens, list(range(len(indexed_tokens)))))\n",
    "  model.eval()\n",
    "  \n",
    "  \n",
    "  with torch.no_grad():\n",
    "    outputs = model(tokens_tensor)\n",
    "    hidden_state = outputs[2]\n",
    "    word_embed= torch.cat([hidden_state[i] for  i in [-1,-2,-3,-4]],dim=-1)\n",
    "      \n",
    "  try: \n",
    "    target_word_tokenid1 = [tok2idx[i] for i in word2berttokens[target1]]\n",
    "    target_word_tokenid2 = [tok2idx[i] for i in word2berttokens[target2]]\n",
    "  except KeyError:\n",
    "    return None\n",
    "  embed1 = torch.zeros(cfg.embed_dim).to(device) ; embed2 = torch.zeros(cfg.embed_dim).to(device)\n",
    "  for i in range(len(target_word_tokenid1)):\n",
    "    embed1 = embed1 + word_embed[0,target_word_tokenid1[i]]\n",
    "  embed1 /=len(target_word_tokenid1)\n",
    "  for i in range(len(target_word_tokenid2)):\n",
    "    embed2 = embed2 + word_embed[0,target_word_tokenid2[i]]\n",
    "  embed2 /=len(target_word_tokenid2)\n",
    "  return torch.cat((embed1,embed2),dim=0)"
   ]
  },
  {
   "cell_type": "code",
   "execution_count": 216,
   "metadata": {
    "id": "p7PXvEppGASL"
   },
   "outputs": [
    {
     "data": {
      "application/vnd.jupyter.widget-view+json": {
       "model_id": "8294fc2ef94a474398a4258508d0de13",
       "version_major": 2,
       "version_minor": 0
      },
      "text/plain": [
       "Downloading:   0%|          | 0.00/213k [00:00<?, ?B/s]"
      ]
     },
     "metadata": {},
     "output_type": "display_data"
    },
    {
     "data": {
      "application/vnd.jupyter.widget-view+json": {
       "model_id": "2380f3f370f444d4ae3dc5b2433395e8",
       "version_major": 2,
       "version_minor": 0
      },
      "text/plain": [
       "Downloading:   0%|          | 0.00/29.0 [00:00<?, ?B/s]"
      ]
     },
     "metadata": {},
     "output_type": "display_data"
    },
    {
     "data": {
      "application/vnd.jupyter.widget-view+json": {
       "model_id": "d2021b0a908447d396b54ced471f3695",
       "version_major": 2,
       "version_minor": 0
      },
      "text/plain": [
       "Downloading:   0%|          | 0.00/436k [00:00<?, ?B/s]"
      ]
     },
     "metadata": {},
     "output_type": "display_data"
    },
    {
     "data": {
      "application/vnd.jupyter.widget-view+json": {
       "model_id": "69ddefb69bef45f2a1984d6a59fdef5a",
       "version_major": 2,
       "version_minor": 0
      },
      "text/plain": [
       "Downloading:   0%|          | 0.00/433 [00:00<?, ?B/s]"
      ]
     },
     "metadata": {},
     "output_type": "display_data"
    },
    {
     "data": {
      "application/vnd.jupyter.widget-view+json": {
       "model_id": "ac3386e7baf94d0eb1eea2e6a0d8555c",
       "version_major": 2,
       "version_minor": 0
      },
      "text/plain": [
       "Downloading:   0%|          | 0.00/436M [00:00<?, ?B/s]"
      ]
     },
     "metadata": {},
     "output_type": "display_data"
    }
   ],
   "source": [
    "tokenizer = BertTokenizer.from_pretrained('bert-base-cased')\n",
    "model = BertModel.from_pretrained('bert-base-cased',output_hidden_states=True)\n",
    "model = model.to(device)"
   ]
  },
  {
   "cell_type": "code",
   "execution_count": 222,
   "metadata": {},
   "outputs": [],
   "source": [
    "class CustomDataset2(Dataset):\n",
    "  def __init__(self,df,tokenizer,model,istrain=False):\n",
    "    self.df = df\n",
    "    self.tokenizer = tokenizer\n",
    "    self.model = model\n",
    "    self.data=[]\n",
    "    self.eye = torch.eye(cfg.classes)\n",
    "    for i in tqdm(range(len(df))):\n",
    "        t1 = self.df.loc[i]['token'].strip().split(\" \")[0]\n",
    "        t2 = self.df.loc[i]['token'].strip().split(\" \")[1]\n",
    "        emb = get_embedding_pipeline(self.df.loc[i]['sentence'],\n",
    "                                     t1,\n",
    "                                     t2,\n",
    "                                     self.tokenizer,\n",
    "                                     self.model)\n",
    "        y_label = int((self.df.loc[i]['complexity']*(cfg.classes-1))//1)\n",
    "        lower_tril = torch.tril(torch.ones(cfg.classes,cfg.classes))\n",
    "        lower_tril = lower_tril[:-1]\n",
    "        lower_tril = torch.cat([torch.zeros(1,lower_tril.size()[1]),lower_tril ],dim=0)\n",
    "        lower_tril= lower_tril[:,:-1]\n",
    "        y_label = lower_tril[y_label]\n",
    "        \n",
    "        if istrain:\n",
    "            complexity = torch.tensor(y_label).to(device)\n",
    "        else:\n",
    "            complexity = torch.tensor(self.df.loc[i]['complexity']).to(device)\n",
    "        if emb is None: \n",
    "            print(\"LOL\")\n",
    "            if istrain==False:\n",
    "                emb = torch.zeros(cfg.embed_dim).to(device)\n",
    "                self.data.append([emb,complexity])\n",
    "            continue\n",
    "        self.data.append([emb,complexity])\n",
    "\n",
    "  def __len__(self):\n",
    "    return len(self.data)\n",
    "  def __getitem__(self,idx):\n",
    "    return self.data[idx][0],self.data[idx][1]"
   ]
  },
  {
   "cell_type": "code",
   "execution_count": 223,
   "metadata": {},
   "outputs": [],
   "source": [
    "from torch.nn.modules.loss import _WeightedLoss\n",
    "import torch.nn.functional as F"
   ]
  },
  {
   "cell_type": "code",
   "execution_count": 224,
   "metadata": {},
   "outputs": [
    {
     "data": {
      "application/vnd.jupyter.widget-view+json": {
       "model_id": "758160fe0f16487c9a326ddde38f21df",
       "version_major": 2,
       "version_minor": 0
      },
      "text/plain": [
       "  0%|          | 0/1517 [00:00<?, ?it/s]"
      ]
     },
     "metadata": {},
     "output_type": "display_data"
    },
    {
     "name": "stderr",
     "output_type": "stream",
     "text": [
      "/opt/conda/lib/python3.7/site-packages/ipykernel_launcher.py:24: UserWarning: To copy construct from a tensor, it is recommended to use sourceTensor.clone().detach() or sourceTensor.clone().detach().requires_grad_(True), rather than torch.tensor(sourceTensor).\n"
     ]
    },
    {
     "data": {
      "application/vnd.jupyter.widget-view+json": {
       "model_id": "b76b1e2d7cf3432b8271166e82177c35",
       "version_major": 2,
       "version_minor": 0
      },
      "text/plain": [
       "  0%|          | 0/99 [00:00<?, ?it/s]"
      ]
     },
     "metadata": {},
     "output_type": "display_data"
    }
   ],
   "source": [
    "train_dataset = CustomDataset2(train_df,tokenizer,model,True)\n",
    "valid_dataset = CustomDataset2(valid_df,tokenizer,model)"
   ]
  },
  {
   "cell_type": "code",
   "execution_count": 225,
   "metadata": {},
   "outputs": [],
   "source": [
    "train_dl = DataLoader(train_dataset,shuffle=True,batch_size=cfg.batch_sz)\n",
    "valid_dl = DataLoader(valid_dataset,shuffle=False,batch_size=cfg.batch_sz)"
   ]
  },
  {
   "cell_type": "code",
   "execution_count": 226,
   "metadata": {},
   "outputs": [],
   "source": [
    "class MLP(nn.Module):\n",
    "  def __init__(self,input_sz,hidden_layers=[128,32,16],classes=5):\n",
    "    super(MLP,self).__init__()\n",
    "    self.layers = [input_sz]+hidden_layers+[classes]\n",
    "    self.net = []\n",
    "    for h0,h1 in zip(self.layers,self.layers[1:]):\n",
    "      self.net.extend([nn.Linear(h0,h1),nn.ReLU(),nn.Dropout(cfg.dropout)])\n",
    "    self.net.pop();self.net.pop()\n",
    "    self.net.append(nn.Sigmoid())\n",
    "    print(self.net)\n",
    "    self.net = nn.Sequential(*self.net)\n",
    "  def forward(self,x):\n",
    "    y= self.net(x)\n",
    "    return y"
   ]
  },
  {
   "cell_type": "code",
   "execution_count": 229,
   "metadata": {},
   "outputs": [
    {
     "name": "stdout",
     "output_type": "stream",
     "text": [
      "[Linear(in_features=6144, out_features=1024, bias=True), ReLU(), Dropout(p=0.2, inplace=False), Linear(in_features=1024, out_features=512, bias=True), ReLU(), Dropout(p=0.2, inplace=False), Linear(in_features=512, out_features=256, bias=True), ReLU(), Dropout(p=0.2, inplace=False), Linear(in_features=256, out_features=32, bias=True), ReLU(), Dropout(p=0.2, inplace=False), Linear(in_features=32, out_features=9, bias=True), Sigmoid()]\n"
     ]
    }
   ],
   "source": [
    "net = MLP(2*cfg.embed_dim ,[1024,512,256,32],cfg.classes-1)\n",
    "net = net.double().to(device)\n",
    "cfg.niter = 200"
   ]
  },
  {
   "cell_type": "code",
   "execution_count": 230,
   "metadata": {},
   "outputs": [],
   "source": [
    "zero = torch.zeros(cfg.classes-1).to(device) \n",
    "for x,y in train_dl:\n",
    "    zero += torch.sum(y,dim=0)"
   ]
  },
  {
   "cell_type": "code",
   "execution_count": 231,
   "metadata": {},
   "outputs": [],
   "source": [
    "wt = []\n",
    "cnt_zeros = 0\n",
    "for i in range(cfg.classes - 1):\n",
    "    if zero[i].item() != 0:\n",
    "        wt.append(1)\n",
    "    else:\n",
    "        wt.append(0)\n",
    "        cnt_zeros+=1\n",
    "        "
   ]
  },
  {
   "cell_type": "code",
   "execution_count": 232,
   "metadata": {},
   "outputs": [],
   "source": [
    "optimizer = optim.Adam(net.parameters(), lr=cfg.lr)\n",
    "criterion1 = nn.MSELoss()\n",
    "criterion = nn.BCELoss(weight = torch.tensor(wt).to(device))"
   ]
  },
  {
   "cell_type": "code",
   "execution_count": 233,
   "metadata": {},
   "outputs": [],
   "source": [
    "def train(epoch, dataloader, net, criterion, optimizer, cfg , loss_arr, scheduler=None):\n",
    "  net.train()\n",
    "  for i,(x,y) in enumerate(dataloader):\n",
    "    x=x.double().to(device);y=y.double().to(device)\n",
    "    optimizer.zero_grad()\n",
    "    outp=net(x)\n",
    "    #outp = outp/ordinal_threshold\n",
    "    #outp = mask*outp\n",
    "    loss = criterion(outp,y)\n",
    "    loss.backward()\n",
    "    optimizer.step()\n",
    "    if scheduler:\n",
    "        scheduler.step()\n",
    "    if i % 10 == 0:\n",
    "        loss_arr.append(loss.item()/cfg.batch_sz)"
   ]
  },
  {
   "cell_type": "code",
   "execution_count": 234,
   "metadata": {},
   "outputs": [],
   "source": [
    "def valid(epoch, dataloader, net, criterion, optimizer, cfg):\n",
    "  total_loss = 0.\n",
    "  pearson_loss = 0\n",
    "  net.eval()\n",
    "  soft = nn.Softmax(dim=1)\n",
    "  for i,(x,y) in enumerate(dataloader):\n",
    "    with torch.no_grad():\n",
    "      x=x.double().to(device);y=y.double().to(device)\n",
    "      outp=net(x)\n",
    "      #mask = outp>ordinal_threshold\n",
    "      #outp = outp*mask  \n",
    "      outp1 = torch.sum(outp[:,:-cnt_zeros],dim=1)\n",
    "      \n",
    "      outp1/=(cfg.classes-1)\n",
    "      total_loss += criterion(outp1,y)\n",
    "      pearson_loss += evaluator0(outp1.flatten().tolist(),y.flatten().tolist())[0]\n",
    "\n",
    "  total_loss /= len(dataloader.dataset)\n",
    "  pearson_loss/=len(dataloader)\n",
    "  return total_loss,pearson_loss\n"
   ]
  },
  {
   "cell_type": "code",
   "execution_count": 235,
   "metadata": {},
   "outputs": [
    {
     "data": {
      "application/vnd.jupyter.widget-view+json": {
       "model_id": "cd8e5f2f19ca49149d3e56f76bad30d3",
       "version_major": 2,
       "version_minor": 0
      },
      "text/plain": [
       "  0%|          | 0/200 [00:00<?, ?it/s]"
      ]
     },
     "metadata": {},
     "output_type": "display_data"
    }
   ],
   "source": [
    "pearson_best=-1\n",
    "loss_arr = [];pearson_arr = []\n",
    "for epoch in tqdm(range(0, cfg.niter)):\n",
    "    train(epoch, train_dl, net, criterion, optimizer,cfg,[])\n",
    "    (loss,pearson)=valid(epoch, valid_dl, net, criterion1, optimizer, cfg)\n",
    "    loss_arr.append(loss)\n",
    "    pearson_arr.append(pearson)\n",
    "    if pearson_best<pearson:\n",
    "        pearson_best=pearson\n",
    "        torch.save({'model':net.state_dict(),'optimizer':optimizer.state_dict()},\"../saved_models/best_model\")"
   ]
  },
  {
   "cell_type": "code",
   "execution_count": 236,
   "metadata": {
    "id": "Tr62kRt4WQRn"
   },
   "outputs": [
    {
     "data": {
      "image/png": "[encoded data removed]",
      "text/plain": [
       "<Figure size 432x288 with 1 Axes>"
      ]
     },
     "metadata": {
      "needs_background": "light"
     },
     "output_type": "display_data"
    }
   ],
   "source": [
    "from matplotlib import pyplot as plt\n",
    "plt.plot(loss_arr)\n",
    "plt.xlabel('iter')\n",
    "plt.ylabel('loss')\n",
    "plt.show()"
   ]
  },
  {
   "cell_type": "markdown",
   "metadata": {},
   "source": [
    "## Testing"
   ]
  },
  {
   "cell_type": "code",
   "execution_count": 237,
   "metadata": {},
   "outputs": [
    {
     "data": {
      "image/png": "[encoded data removed]",
      "text/plain": [
       "<Figure size 432x288 with 1 Axes>"
      ]
     },
     "metadata": {
      "needs_background": "light"
     },
     "output_type": "display_data"
    }
   ],
   "source": [
    "from matplotlib import pyplot as plt\n",
    "plt.plot(pearson_arr)\n",
    "plt.xlabel('iter')\n",
    "plt.ylabel('pearson')\n",
    "plt.show()"
   ]
  },
  {
   "cell_type": "code",
   "execution_count": 238,
   "metadata": {},
   "outputs": [
    {
     "data": {
      "text/plain": [
       "0.7656185021273952"
      ]
     },
     "execution_count": 238,
     "metadata": {},
     "output_type": "execute_result"
    }
   ],
   "source": [
    "pearson_best"
   ]
  },
  {
   "cell_type": "code",
   "execution_count": 239,
   "metadata": {},
   "outputs": [],
   "source": [
    "states= torch.load('../saved_models/best_model')"
   ]
  },
  {
   "cell_type": "code",
   "execution_count": 240,
   "metadata": {},
   "outputs": [
    {
     "data": {
      "text/plain": [
       "<All keys matched successfully>"
      ]
     },
     "execution_count": 240,
     "metadata": {},
     "output_type": "execute_result"
    }
   ],
   "source": [
    "net.load_state_dict(states['model'])"
   ]
  },
  {
   "cell_type": "code",
   "execution_count": 241,
   "metadata": {},
   "outputs": [
    {
     "data": {
      "application/vnd.jupyter.widget-view+json": {
       "model_id": "7873561b6ef94c55adafd6c65ad4673b",
       "version_major": 2,
       "version_minor": 0
      },
      "text/plain": [
       "  0%|          | 0/184 [00:00<?, ?it/s]"
      ]
     },
     "metadata": {},
     "output_type": "display_data"
    }
   ],
   "source": [
    "test_dataset = CustomDataset2(test_df,tokenizer,model)\n",
    "test_dl = DataLoader(test_dataset,shuffle=False,batch_size=cfg.batch_sz)"
   ]
  },
  {
   "cell_type": "code",
   "execution_count": null,
   "metadata": {},
   "outputs": [],
   "source": [
    "ordinal_threshold = 0.5"
   ]
  },
  {
   "cell_type": "code",
   "execution_count": 242,
   "metadata": {},
   "outputs": [],
   "source": [
    "def test(dataloader, net, criterion, optimizer, cfg):\n",
    "    net.eval()\n",
    "    pred=[]\n",
    "    gts=[]\n",
    "    soft = nn.Softmax(dim=1)\n",
    "    for i,(x,y) in enumerate(dataloader):\n",
    "        with torch.no_grad():\n",
    "            x=x.double().to(device);y=y.double().to(device)\n",
    "            outp=net(x)\n",
    "#             outp = soft(outp)\n",
    "            mask = outp>ordinal_threshold\n",
    "            outp = mask*outp\n",
    "            print(outp[0])\n",
    "            outp1 = torch.sum(outp[:,:-cnt_zeros],dim=1)\n",
    "            outp1/=(cfg.classes-1)\n",
    "            print(outp1[0])\n",
    "            pred.extend(outp1.tolist())\n",
    "            gts.extend(y.tolist())\n",
    "    return pred,gts"
   ]
  },
  {
   "cell_type": "code",
   "execution_count": 243,
   "metadata": {},
   "outputs": [
    {
     "name": "stdout",
     "output_type": "stream",
     "text": [
      "tensor([0.9755, 0.7459, 0.0000, 0.0000, 0.0000, 0.0000, 0.0000, 0.0000, 0.0000],\n",
      "       dtype=torch.float64)\n",
      "tensor(0.1913, dtype=torch.float64)\n",
      "-----------\n",
      " 0.0\n",
      "0.7519152248456058\n",
      "-----------\n",
      " 0.05\n",
      "0.7566299950725521\n",
      "-----------\n",
      " 0.1\n",
      "0.761203778126854\n",
      "-----------\n",
      " 0.15000000000000002\n",
      "0.7655965198330495\n",
      "-----------\n",
      " 0.2\n",
      "0.7697629123102958\n",
      "-----------\n",
      " 0.25\n",
      "0.7736520249186613\n",
      "-----------\n",
      " 0.30000000000000004\n",
      "0.7772069944684202\n",
      "-----------\n",
      " 0.35000000000000003\n",
      "0.7803648071771331\n",
      "-----------\n",
      " 0.4\n",
      "0.7830562117064808\n",
      "-----------\n",
      " 0.45\n",
      "0.7852058092352086\n",
      "-----------\n",
      " 0.5\n",
      "0.7867323721027453\n",
      "-----------\n",
      " 0.55\n",
      "0.7875494459554956\n",
      "-----------\n",
      " 0.6000000000000001\n",
      "0.7875662901047782\n",
      "-----------\n",
      " 0.65\n",
      "0.7866892052926104\n",
      "-----------\n",
      " 0.7000000000000001\n",
      "0.784823285535647\n",
      "-----------\n",
      " 0.75\n",
      "0.7818746097008519\n",
      "-----------\n",
      " 0.8\n",
      "0.7777528581529737\n",
      "-----------\n",
      " 0.8500000000000001\n",
      "0.7723743005848025\n",
      "-----------\n",
      " 0.9\n",
      "0.7656650550758773\n",
      "-----------\n",
      " 0.9500000000000001\n",
      "0.7575644696538644\n"
     ]
    }
   ],
   "source": [
    "preds2_v,gts = test(valid_dl,net,criterion,optimizer,cfg)\n",
    "best_f = 0\n",
    "best_p_c = -1\n",
    "for f in np.arange(0,1,0.05):\n",
    "    print(\"-----------\\n\",f)\n",
    "    preds1_n_v = preds1_v * (f)\n",
    "    preds2_n_v = np.array(preds2_v) * (1-f)\n",
    "    cpc = evaluator0((preds2_n_v+preds1_n_v),gts)[0]\n",
    "    print(cpc)\n",
    "    if cpc > best_p_c:\n",
    "        best_p_c = cpc\n",
    "        best_f = f\n",
    "    "
   ]
  },
  {
   "cell_type": "code",
   "execution_count": null,
   "metadata": {},
   "outputs": [],
   "source": [
    "print(best_f,'...',best_p_c)"
   ]
  },
  {
   "cell_type": "code",
   "execution_count": 244,
   "metadata": {},
   "outputs": [
    {
     "name": "stdout",
     "output_type": "stream",
     "text": [
      "tensor([0.9395, 0.0000, 0.0000, 0.0000, 0.0000, 0.0000, 0.0000, 0.0000, 0.0000],\n",
      "       dtype=torch.float64)\n",
      "tensor(0.1044, dtype=torch.float64)\n",
      "(0.8201094767843192, 5.381728576572912e-46)\n",
      "SpearmanrResult(correlation=0.810088542282176, pvalue=4.574959957732504e-44)\n"
     ]
    }
   ],
   "source": [
    "preds2_t,gts = test(test_dl,net,criterion,optimizer,cfg)\n",
    "f = best_f\n",
    "preds1_n_t = preds1_t * (f)\n",
    "preds2_n_t = np.array(preds2_t) * (1-f)\n",
    "print(evaluator0((preds2_n_t+preds1_n_t),gts))\n",
    "print(evaluator1((preds2_n_t+preds1_n_t),gts))"
   ]
  },
  {
   "cell_type": "code",
   "execution_count": 247,
   "metadata": {
    "scrolled": true
   },
   "outputs": [
    {
     "data": {
      "text/html": [
       "<div>\n",
       "<style scoped>\n",
       "    .dataframe tbody tr th:only-of-type {\n",
       "        vertical-align: middle;\n",
       "    }\n",
       "\n",
       "    .dataframe tbody tr th {\n",
       "        vertical-align: top;\n",
       "    }\n",
       "\n",
       "    .dataframe thead th {\n",
       "        text-align: right;\n",
       "    }\n",
       "</style>\n",
       "<table border=\"1\" class=\"dataframe\">\n",
       "  <thead>\n",
       "    <tr style=\"text-align: right;\">\n",
       "      <th></th>\n",
       "      <th>id</th>\n",
       "      <th>score</th>\n",
       "    </tr>\n",
       "  </thead>\n",
       "  <tbody>\n",
       "    <tr>\n",
       "      <th>0</th>\n",
       "      <td>31HLTCK4BLVQ5BO1AUR91TX9V9IVGH</td>\n",
       "      <td>0.235239</td>\n",
       "    </tr>\n",
       "    <tr>\n",
       "      <th>1</th>\n",
       "      <td>389A2A304OIXVY7G5B71Q9M43LE0CL</td>\n",
       "      <td>0.300365</td>\n",
       "    </tr>\n",
       "    <tr>\n",
       "      <th>2</th>\n",
       "      <td>31N9JPQXIPIRX2A3S9N0CCFXO6TNHR</td>\n",
       "      <td>0.317935</td>\n",
       "    </tr>\n",
       "    <tr>\n",
       "      <th>3</th>\n",
       "      <td>3JVP4ZJHDPSO81TGXL3N1CKZGQY0IN</td>\n",
       "      <td>0.354238</td>\n",
       "    </tr>\n",
       "    <tr>\n",
       "      <th>4</th>\n",
       "      <td>3JAOYN9IHL25ZQAUV5EJZ4GH0KL33L</td>\n",
       "      <td>0.325195</td>\n",
       "    </tr>\n",
       "  </tbody>\n",
       "</table>\n",
       "</div>"
      ],
      "text/plain": [
       "                               id     score\n",
       "0  31HLTCK4BLVQ5BO1AUR91TX9V9IVGH  0.235239\n",
       "1  389A2A304OIXVY7G5B71Q9M43LE0CL  0.300365\n",
       "2  31N9JPQXIPIRX2A3S9N0CCFXO6TNHR  0.317935\n",
       "3  3JVP4ZJHDPSO81TGXL3N1CKZGQY0IN  0.354238\n",
       "4  3JAOYN9IHL25ZQAUV5EJZ4GH0KL33L  0.325195"
      ]
     },
     "execution_count": 247,
     "metadata": {},
     "output_type": "execute_result"
    }
   ],
   "source": [
    "sub_df = pd.DataFrame(columns = ['id','score'])\n",
    "f = best_f\n",
    "preds1_n_v = preds1_v * (f)\n",
    "preds2_n_v = np.array(preds2_v) * (1-f)\n",
    "sub_df['id'] = valid_df['id']\n",
    "sub_df['score'] = preds1_n_v + preds2_n_v\n",
    "sub_df.head()"
   ]
  },
  {
   "cell_type": "code",
   "execution_count": 248,
   "metadata": {},
   "outputs": [],
   "source": [
    "sub_df.to_csv('../outputs/multi_final_valid_ensemble_thresh_concat_10class.csv',header=None,index=False,encoding='utf-8')"
   ]
  },
  {
   "cell_type": "code",
   "execution_count": 249,
   "metadata": {},
   "outputs": [
    {
     "data": {
      "text/html": [
       "<div>\n",
       "<style scoped>\n",
       "    .dataframe tbody tr th:only-of-type {\n",
       "        vertical-align: middle;\n",
       "    }\n",
       "\n",
       "    .dataframe tbody tr th {\n",
       "        vertical-align: top;\n",
       "    }\n",
       "\n",
       "    .dataframe thead th {\n",
       "        text-align: right;\n",
       "    }\n",
       "</style>\n",
       "<table border=\"1\" class=\"dataframe\">\n",
       "  <thead>\n",
       "    <tr style=\"text-align: right;\">\n",
       "      <th></th>\n",
       "      <th>id</th>\n",
       "      <th>score</th>\n",
       "    </tr>\n",
       "  </thead>\n",
       "  <tbody>\n",
       "    <tr>\n",
       "      <th>0</th>\n",
       "      <td>3UXQ63NLAAMRIP4WG4XPD98AOYOBLX</td>\n",
       "      <td>0.206982</td>\n",
       "    </tr>\n",
       "    <tr>\n",
       "      <th>1</th>\n",
       "      <td>3FJ2RVH25Z62TA3R8E1O77EBUYU92W</td>\n",
       "      <td>0.252594</td>\n",
       "    </tr>\n",
       "    <tr>\n",
       "      <th>2</th>\n",
       "      <td>3YO4AH2FPDK1PZHZAT8WAEBL70EQ0F</td>\n",
       "      <td>0.278009</td>\n",
       "    </tr>\n",
       "    <tr>\n",
       "      <th>3</th>\n",
       "      <td>3X52SWXE0X5Q3O81YI0MX4V84QTCWZ</td>\n",
       "      <td>0.191879</td>\n",
       "    </tr>\n",
       "    <tr>\n",
       "      <th>4</th>\n",
       "      <td>32K26U12DNONTREA84Q1V8UCIH2VD7</td>\n",
       "      <td>0.265521</td>\n",
       "    </tr>\n",
       "  </tbody>\n",
       "</table>\n",
       "</div>"
      ],
      "text/plain": [
       "                               id     score\n",
       "0  3UXQ63NLAAMRIP4WG4XPD98AOYOBLX  0.206982\n",
       "1  3FJ2RVH25Z62TA3R8E1O77EBUYU92W  0.252594\n",
       "2  3YO4AH2FPDK1PZHZAT8WAEBL70EQ0F  0.278009\n",
       "3  3X52SWXE0X5Q3O81YI0MX4V84QTCWZ  0.191879\n",
       "4  32K26U12DNONTREA84Q1V8UCIH2VD7  0.265521"
      ]
     },
     "execution_count": 249,
     "metadata": {},
     "output_type": "execute_result"
    }
   ],
   "source": [
    "sub_df = pd.DataFrame(columns = ['id','score'])\n",
    "f = best_f\n",
    "preds1_n_t = preds1_t * (f)\n",
    "preds2_n_t = np.array(preds2_t) * (1-f)\n",
    "sub_df['id'] = test_df['id']\n",
    "sub_df['score'] = preds1_n_t + preds2_n_t\n",
    "sub_df.head()"
   ]
  },
  {
   "cell_type": "code",
   "execution_count": 250,
   "metadata": {},
   "outputs": [],
   "source": [
    "sub_df.to_csv('../outputs/multi_final_test_ensemble_thresh_concat_10class.csv',header=None,index=False,encoding='utf-8')"
   ]
  },
  {
   "cell_type": "code",
   "execution_count": null,
   "metadata": {},
   "outputs": [],
   "source": []
  }
 ],
 "metadata": {
  "kernelspec": {
   "display_name": "Python 3",
   "language": "python",
   "name": "python3"
  },
  "language_info": {
   "codemirror_mode": {
    "name": "ipython",
    "version": 3
   },
   "file_extension": ".py",
   "mimetype": "text/x-python",
   "name": "python",
   "nbconvert_exporter": "python",
   "pygments_lexer": "ipython3",
   "version": "3.6.9"
  }
 },
 "nbformat": 4,
 "nbformat_minor": 4
}
