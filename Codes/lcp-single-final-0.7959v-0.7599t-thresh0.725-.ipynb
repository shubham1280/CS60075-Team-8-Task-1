{
 "cells": [
  {
   "cell_type": "code",
   "execution_count": 1,
   "metadata": {
    "scrolled": true
   },
   "outputs": [
    {
     "name": "stdout",
     "output_type": "stream",
     "text": [
      "Requirement already satisfied: wordfreq in /home/ravi-pg/myenv/lib/python3.6/site-packages (2.4.2)\n",
      "Requirement already satisfied: msgpack>=1.0 in /home/ravi-pg/myenv/lib/python3.6/site-packages (from wordfreq) (1.0.2)\n",
      "Requirement already satisfied: langcodes>=3.0 in /home/ravi-pg/myenv/lib/python3.6/site-packages (from wordfreq) (3.1.0)\n",
      "Requirement already satisfied: regex>=2020.04.04 in /home/ravi-pg/myenv/lib/python3.6/site-packages (from wordfreq) (2020.10.23)\n",
      "Requirement already satisfied: transformers in /home/ravi-pg/myenv/lib/python3.6/site-packages (4.3.2)\n",
      "Requirement already satisfied: filelock in /home/ravi-pg/myenv/lib/python3.6/site-packages (from transformers) (3.0.12)\n",
      "Requirement already satisfied: tqdm>=4.27 in /home/ravi-pg/myenv/lib/python3.6/site-packages (from transformers) (4.48.2)\n",
      "Requirement already satisfied: numpy>=1.17 in /home/ravi-pg/myenv/lib/python3.6/site-packages (from transformers) (1.19.1)\n",
      "Requirement already satisfied: regex!=2019.12.17 in /home/ravi-pg/myenv/lib/python3.6/site-packages (from transformers) (2020.10.23)\n",
      "Requirement already satisfied: requests in /home/ravi-pg/myenv/lib/python3.6/site-packages (from transformers) (2.24.0)\n",
      "Requirement already satisfied: sacremoses in /home/ravi-pg/myenv/lib/python3.6/site-packages (from transformers) (0.0.43)\n",
      "Requirement already satisfied: dataclasses in /home/ravi-pg/myenv/lib/python3.6/site-packages (from transformers) (0.7)\n",
      "Requirement already satisfied: tokenizers<0.11,>=0.10.1 in /home/ravi-pg/myenv/lib/python3.6/site-packages (from transformers) (0.10.1)\n",
      "Requirement already satisfied: packaging in /home/ravi-pg/myenv/lib/python3.6/site-packages (from transformers) (20.4)\n",
      "Requirement already satisfied: importlib-metadata in /home/ravi-pg/myenv/lib/python3.6/site-packages (from transformers) (1.7.0)\n",
      "Requirement already satisfied: zipp>=0.5 in /home/ravi-pg/myenv/lib/python3.6/site-packages (from importlib-metadata->transformers) (3.1.0)\n",
      "Requirement already satisfied: pyparsing>=2.0.2 in /home/ravi-pg/myenv/lib/python3.6/site-packages (from packaging->transformers) (2.4.7)\n",
      "Requirement already satisfied: six in /home/ravi-pg/myenv/lib/python3.6/site-packages (from packaging->transformers) (1.15.0)\n",
      "Requirement already satisfied: urllib3!=1.25.0,!=1.25.1,<1.26,>=1.21.1 in /home/ravi-pg/myenv/lib/python3.6/site-packages (from requests->transformers) (1.25.10)\n",
      "Requirement already satisfied: chardet<4,>=3.0.2 in /home/ravi-pg/myenv/lib/python3.6/site-packages (from requests->transformers) (3.0.4)\n",
      "Requirement already satisfied: certifi>=2017.4.17 in /home/ravi-pg/myenv/lib/python3.6/site-packages (from requests->transformers) (2020.6.20)\n",
      "Requirement already satisfied: idna<3,>=2.5 in /home/ravi-pg/myenv/lib/python3.6/site-packages (from requests->transformers) (2.10)\n",
      "Requirement already satisfied: click in /home/ravi-pg/myenv/lib/python3.6/site-packages (from sacremoses->transformers) (7.1.2)\n",
      "Requirement already satisfied: joblib in /home/ravi-pg/myenv/lib/python3.6/site-packages (from sacremoses->transformers) (0.16.0)\n",
      "Requirement already satisfied: gensim in /home/ravi-pg/myenv/lib/python3.6/site-packages (4.0.1)\n",
      "Requirement already satisfied: dataclasses in /home/ravi-pg/myenv/lib/python3.6/site-packages (from gensim) (0.7)\n",
      "Requirement already satisfied: numpy>=1.11.3 in /home/ravi-pg/myenv/lib/python3.6/site-packages (from gensim) (1.19.1)\n",
      "Requirement already satisfied: smart-open>=1.8.1 in /home/ravi-pg/myenv/lib/python3.6/site-packages (from gensim) (5.0.0)\n",
      "Requirement already satisfied: scipy>=0.18.1 in /home/ravi-pg/myenv/lib/python3.6/site-packages (from gensim) (1.5.2)\n"
     ]
    }
   ],
   "source": [
    "!pip install wordfreq\n",
    "!pip install transformers\n",
    "!pip install gensim"
   ]
  },
  {
   "cell_type": "code",
   "execution_count": 2,
   "metadata": {
    "id": "efz24fK1rppx",
    "outputId": "820b722f-abd9-4072-9464-caec85498f02"
   },
   "outputs": [
    {
     "name": "stderr",
     "output_type": "stream",
     "text": [
      "[nltk_data] Downloading package wordnet to /home/ravi-pg/nltk_data...\n",
      "[nltk_data]   Package wordnet is already up-to-date!\n",
      "[nltk_data] Downloading package punkt to /home/ravi-pg/nltk_data...\n",
      "[nltk_data]   Package punkt is already up-to-date!\n",
      "[nltk_data] Downloading package stopwords to /home/ravi-\n",
      "[nltk_data]     pg/nltk_data...\n",
      "[nltk_data]   Package stopwords is already up-to-date!\n",
      "[nltk_data] Downloading package averaged_perceptron_tagger to\n",
      "[nltk_data]     /home/ravi-pg/nltk_data...\n",
      "[nltk_data]   Package averaged_perceptron_tagger is already up-to-\n",
      "[nltk_data]       date!\n",
      "[nltk_data] Downloading package words to /home/ravi-pg/nltk_data...\n",
      "[nltk_data]   Package words is already up-to-date!\n"
     ]
    }
   ],
   "source": [
    "import numpy as np\n",
    "import pandas as pd\n",
    "import nltk\n",
    "import torch\n",
    "import torch.nn as nn\n",
    "import torch.optim as optim\n",
    "nltk.download('wordnet')\n",
    "nltk.download('punkt')\n",
    "nltk.download('stopwords')\n",
    "nltk.download('averaged_perceptron_tagger')\n",
    "nltk.download('words')\n",
    "from nltk.tokenize import WordPunctTokenizer\n",
    "from nltk.corpus import wordnet as wn\n",
    "from nltk.tokenize import RegexpTokenizer\n",
    "from nltk.corpus import stopwords\n",
    "from nltk.stem import WordNetLemmatizer\n",
    "from nltk.wsd import lesk\n",
    "from transformers import BertModel, BertTokenizer, RobertaModel,RobertaTokenizer\n",
    "from tqdm.auto import tqdm\n",
    "from decimal import Decimal\n",
    "from wordfreq import word_frequency,zipf_frequency\n",
    "tqdm.pandas()\n",
    "from nltk.wsd import lesk\n",
    "\n"
   ]
  },
  {
   "cell_type": "code",
   "execution_count": 3,
   "metadata": {},
   "outputs": [],
   "source": [
    "from nltk.stem import WordNetLemmatizer\n",
    "lemmatizer = WordNetLemmatizer()"
   ]
  },
  {
   "cell_type": "code",
   "execution_count": 4,
   "metadata": {},
   "outputs": [],
   "source": [
    "import spacy\n",
    "nlp=spacy.load('en_core_web_sm')\n",
    "\n",
    "nlp.tokenizer=nlp.tokenizer.tokens_from_list\n",
    "nltk_tokenizer = RegexpTokenizer(r'[a-zA-Z]+')\n"
   ]
  },
  {
   "cell_type": "code",
   "execution_count": 5,
   "metadata": {},
   "outputs": [],
   "source": [
    "from torch.utils.data import DataLoader,Dataset\n",
    "from sklearn.decomposition import PCA\n",
    "from scipy.stats import pearsonr,spearmanr\n",
    "evaluator0 = pearsonr\n",
    "evaluator1 = spearmanr"
   ]
  },
  {
   "cell_type": "code",
   "execution_count": 6,
   "metadata": {
    "id": "P2h1dPrfiJH_"
   },
   "outputs": [
    {
     "name": "stdout",
     "output_type": "stream",
     "text": [
      "using cuda:1\n"
     ]
    }
   ],
   "source": [
    "if torch.cuda.is_available():\n",
    "    device = \"cuda:1\"\n",
    "else:\n",
    "    device = \"cpu\"\n",
    "\n",
    "print(f\"using {device}\")"
   ]
  },
  {
   "cell_type": "code",
   "execution_count": 8,
   "metadata": {
    "id": "r-eTRjLmGkIs"
   },
   "outputs": [],
   "source": [
    "#Config params\n",
    "class CFG():\n",
    "  def __init__(self):\n",
    "    self.batch_sz =256\n",
    "    self.embed_dim = 4*768\n",
    "    self.lr = 1e-5\n",
    "    self.niter = 200\n",
    "    self.alpha = 1\n",
    "    self.feature_dim = 0\n",
    "    self.dropout = 0.2\n",
    "    self.classes = 10\n",
    "    self.label_smooth = 0.1\n",
    "    self.beta = 10\n",
    "    self.w2v_dim = 250\n",
    "cfg = CFG()    "
   ]
  },
  {
   "cell_type": "code",
   "execution_count": 8,
   "metadata": {},
   "outputs": [],
   "source": [
    "from gensim.test.utils import datapath\n",
    "from gensim import utils\n",
    "\n",
    "class MyCorpus:\n",
    "    \"\"\"An iterator that yields sentences (lists of str).\"\"\"\n",
    "\n",
    "    def __iter__(self):\n",
    "        corpus_path = '../nlp_corpus.txt'\n",
    "        for line in open(corpus_path):\n",
    "            # assume there's one document per line, tokens separated by whitespace\n",
    "            yield utils.simple_preprocess(line)"
   ]
  },
  {
   "cell_type": "code",
   "execution_count": 10,
   "metadata": {},
   "outputs": [],
   "source": [
    "import gensim.models\n",
    "\n",
    "## training Word2Vec\n",
    "#sentences = MyCorpus()\n",
    "#w2v_model = gensim.models.Word2Vec(sentences=sentences, vector_size=cfg.w2v_dim, window=35, min_count=2, workers=4)\n",
    "#w2v_model.save(\"../saved_models/word2vec_250_35.model\")\n",
    "\n",
    "w2v_model = gensim.models.Word2Vec.load(\"../saved_models/word2vec.model\")"
   ]
  },
  {
   "cell_type": "code",
   "execution_count": 14,
   "metadata": {
    "id": "BuFfjaaKvdtA",
    "outputId": "164d3e00-1feb-4e62-a9c7-65f62b3b1d8c"
   },
   "outputs": [],
   "source": [
    "def make_df(path):\n",
    "    df = pd.DataFrame(columns=['id', 'corpus', 'sentence', 'token', 'complexity'])\n",
    "    with open(path) as fd:\n",
    "        lines = fd.readlines()\n",
    "        print(len(lines))\n",
    "        for i,row in tqdm(enumerate(lines[1:]),total=len(lines)):\n",
    "          data = row.strip().split('\\t')\n",
    "          ent = {'id':data[0],'corpus':data[1],'sentence':data[2],'token':data[3],'complexity':float(data[4])}\n",
    "          df.loc[i] = ent\n",
    "    return df    "
   ]
  },
  {
   "cell_type": "code",
   "execution_count": 15,
   "metadata": {
    "id": "3NJQPk-Dn15u",
    "outputId": "083018c4-31c2-449f-b8a1-01b41535f6ef"
   },
   "outputs": [
    {
     "name": "stdout",
     "output_type": "stream",
     "text": [
      "7663\n"
     ]
    },
    {
     "data": {
      "application/vnd.jupyter.widget-view+json": {
       "model_id": "a025e42f540743ceb9b90f95e993785b",
       "version_major": 2,
       "version_minor": 0
      },
      "text/plain": [
       "HBox(children=(FloatProgress(value=0.0, max=7663.0), HTML(value='')))"
      ]
     },
     "metadata": {},
     "output_type": "display_data"
    },
    {
     "name": "stdout",
     "output_type": "stream",
     "text": [
      "\n"
     ]
    },
    {
     "ename": "KeyboardInterrupt",
     "evalue": "",
     "output_type": "error",
     "traceback": [
      "\u001b[0;31m---------------------------------------------------------------------------\u001b[0m",
      "\u001b[0;31mKeyboardInterrupt\u001b[0m                         Traceback (most recent call last)",
      "\u001b[0;32m<ipython-input-15-b2b554b5fa83>\u001b[0m in \u001b[0;36m<module>\u001b[0;34m\u001b[0m\n\u001b[0;32m----> 1\u001b[0;31m \u001b[0mtrain_df\u001b[0m \u001b[0;34m=\u001b[0m \u001b[0mmake_df\u001b[0m\u001b[0;34m(\u001b[0m\u001b[0;34m\"../train/lcp_single_train.tsv\"\u001b[0m\u001b[0;34m)\u001b[0m\u001b[0;34m\u001b[0m\u001b[0;34m\u001b[0m\u001b[0m\n\u001b[0m\u001b[1;32m      2\u001b[0m \u001b[0mvalid_df\u001b[0m \u001b[0;34m=\u001b[0m \u001b[0mmake_df\u001b[0m\u001b[0;34m(\u001b[0m\u001b[0;34m\"../trial/lcp_single_trial.tsv\"\u001b[0m\u001b[0;34m)\u001b[0m\u001b[0;34m\u001b[0m\u001b[0;34m\u001b[0m\u001b[0m\n\u001b[1;32m      3\u001b[0m \u001b[0mtest_df\u001b[0m \u001b[0;34m=\u001b[0m \u001b[0mmake_df\u001b[0m\u001b[0;34m(\u001b[0m\u001b[0;34m\"../test-labels/lcp_single_test.tsv\"\u001b[0m\u001b[0;34m)\u001b[0m\u001b[0;34m\u001b[0m\u001b[0;34m\u001b[0m\u001b[0m\n",
      "\u001b[0;32m<ipython-input-14-3826e9556e0b>\u001b[0m in \u001b[0;36mmake_df\u001b[0;34m(path)\u001b[0m\n\u001b[1;32m      7\u001b[0m           \u001b[0mdata\u001b[0m \u001b[0;34m=\u001b[0m \u001b[0mrow\u001b[0m\u001b[0;34m.\u001b[0m\u001b[0mstrip\u001b[0m\u001b[0;34m(\u001b[0m\u001b[0;34m)\u001b[0m\u001b[0;34m.\u001b[0m\u001b[0msplit\u001b[0m\u001b[0;34m(\u001b[0m\u001b[0;34m'\\t'\u001b[0m\u001b[0;34m)\u001b[0m\u001b[0;34m\u001b[0m\u001b[0;34m\u001b[0m\u001b[0m\n\u001b[1;32m      8\u001b[0m           \u001b[0ment\u001b[0m \u001b[0;34m=\u001b[0m \u001b[0;34m{\u001b[0m\u001b[0;34m'id'\u001b[0m\u001b[0;34m:\u001b[0m\u001b[0mdata\u001b[0m\u001b[0;34m[\u001b[0m\u001b[0;36m0\u001b[0m\u001b[0;34m]\u001b[0m\u001b[0;34m,\u001b[0m\u001b[0;34m'corpus'\u001b[0m\u001b[0;34m:\u001b[0m\u001b[0mdata\u001b[0m\u001b[0;34m[\u001b[0m\u001b[0;36m1\u001b[0m\u001b[0;34m]\u001b[0m\u001b[0;34m,\u001b[0m\u001b[0;34m'sentence'\u001b[0m\u001b[0;34m:\u001b[0m\u001b[0mdata\u001b[0m\u001b[0;34m[\u001b[0m\u001b[0;36m2\u001b[0m\u001b[0;34m]\u001b[0m\u001b[0;34m,\u001b[0m\u001b[0;34m'token'\u001b[0m\u001b[0;34m:\u001b[0m\u001b[0mdata\u001b[0m\u001b[0;34m[\u001b[0m\u001b[0;36m3\u001b[0m\u001b[0;34m]\u001b[0m\u001b[0;34m,\u001b[0m\u001b[0;34m'complexity'\u001b[0m\u001b[0;34m:\u001b[0m\u001b[0mfloat\u001b[0m\u001b[0;34m(\u001b[0m\u001b[0mdata\u001b[0m\u001b[0;34m[\u001b[0m\u001b[0;36m4\u001b[0m\u001b[0;34m]\u001b[0m\u001b[0;34m)\u001b[0m\u001b[0;34m}\u001b[0m\u001b[0;34m\u001b[0m\u001b[0;34m\u001b[0m\u001b[0m\n\u001b[0;32m----> 9\u001b[0;31m           \u001b[0mdf\u001b[0m\u001b[0;34m.\u001b[0m\u001b[0mloc\u001b[0m\u001b[0;34m[\u001b[0m\u001b[0mi\u001b[0m\u001b[0;34m]\u001b[0m \u001b[0;34m=\u001b[0m \u001b[0ment\u001b[0m\u001b[0;34m\u001b[0m\u001b[0;34m\u001b[0m\u001b[0m\n\u001b[0m\u001b[1;32m     10\u001b[0m     \u001b[0;32mreturn\u001b[0m \u001b[0mdf\u001b[0m\u001b[0;34m\u001b[0m\u001b[0;34m\u001b[0m\u001b[0m\n",
      "\u001b[0;32m~/myenv/lib/python3.6/site-packages/pandas/core/indexing.py\u001b[0m in \u001b[0;36m__setitem__\u001b[0;34m(self, key, value)\u001b[0m\n\u001b[1;32m    668\u001b[0m \u001b[0;34m\u001b[0m\u001b[0m\n\u001b[1;32m    669\u001b[0m         \u001b[0miloc\u001b[0m \u001b[0;34m=\u001b[0m \u001b[0mself\u001b[0m \u001b[0;32mif\u001b[0m \u001b[0mself\u001b[0m\u001b[0;34m.\u001b[0m\u001b[0mname\u001b[0m \u001b[0;34m==\u001b[0m \u001b[0;34m\"iloc\"\u001b[0m \u001b[0;32melse\u001b[0m \u001b[0mself\u001b[0m\u001b[0;34m.\u001b[0m\u001b[0mobj\u001b[0m\u001b[0;34m.\u001b[0m\u001b[0miloc\u001b[0m\u001b[0;34m\u001b[0m\u001b[0;34m\u001b[0m\u001b[0m\n\u001b[0;32m--> 670\u001b[0;31m         \u001b[0miloc\u001b[0m\u001b[0;34m.\u001b[0m\u001b[0m_setitem_with_indexer\u001b[0m\u001b[0;34m(\u001b[0m\u001b[0mindexer\u001b[0m\u001b[0;34m,\u001b[0m \u001b[0mvalue\u001b[0m\u001b[0;34m)\u001b[0m\u001b[0;34m\u001b[0m\u001b[0;34m\u001b[0m\u001b[0m\n\u001b[0m\u001b[1;32m    671\u001b[0m \u001b[0;34m\u001b[0m\u001b[0m\n\u001b[1;32m    672\u001b[0m     \u001b[0;32mdef\u001b[0m \u001b[0m_validate_key\u001b[0m\u001b[0;34m(\u001b[0m\u001b[0mself\u001b[0m\u001b[0;34m,\u001b[0m \u001b[0mkey\u001b[0m\u001b[0;34m,\u001b[0m \u001b[0maxis\u001b[0m\u001b[0;34m:\u001b[0m \u001b[0mint\u001b[0m\u001b[0;34m)\u001b[0m\u001b[0;34m:\u001b[0m\u001b[0;34m\u001b[0m\u001b[0;34m\u001b[0m\u001b[0m\n",
      "\u001b[0;32m~/myenv/lib/python3.6/site-packages/pandas/core/indexing.py\u001b[0m in \u001b[0;36m_setitem_with_indexer\u001b[0;34m(self, indexer, value)\u001b[0m\n\u001b[1;32m   1624\u001b[0m \u001b[0;34m\u001b[0m\u001b[0m\n\u001b[1;32m   1625\u001b[0m             \u001b[0;32mif\u001b[0m \u001b[0mmissing\u001b[0m\u001b[0;34m:\u001b[0m\u001b[0;34m\u001b[0m\u001b[0;34m\u001b[0m\u001b[0m\n\u001b[0;32m-> 1626\u001b[0;31m                 \u001b[0mself\u001b[0m\u001b[0;34m.\u001b[0m\u001b[0m_setitem_with_indexer_missing\u001b[0m\u001b[0;34m(\u001b[0m\u001b[0mindexer\u001b[0m\u001b[0;34m,\u001b[0m \u001b[0mvalue\u001b[0m\u001b[0;34m)\u001b[0m\u001b[0;34m\u001b[0m\u001b[0;34m\u001b[0m\u001b[0m\n\u001b[0m\u001b[1;32m   1627\u001b[0m                 \u001b[0;32mreturn\u001b[0m\u001b[0;34m\u001b[0m\u001b[0;34m\u001b[0m\u001b[0m\n\u001b[1;32m   1628\u001b[0m \u001b[0;34m\u001b[0m\u001b[0m\n",
      "\u001b[0;32m~/myenv/lib/python3.6/site-packages/pandas/core/indexing.py\u001b[0m in \u001b[0;36m_setitem_with_indexer_missing\u001b[0;34m(self, indexer, value)\u001b[0m\n\u001b[1;32m   1860\u001b[0m                 \u001b[0mvalue\u001b[0m \u001b[0;34m=\u001b[0m \u001b[0mSeries\u001b[0m\u001b[0;34m(\u001b[0m\u001b[0mvalue\u001b[0m\u001b[0;34m,\u001b[0m \u001b[0mindex\u001b[0m\u001b[0;34m=\u001b[0m\u001b[0mself\u001b[0m\u001b[0;34m.\u001b[0m\u001b[0mobj\u001b[0m\u001b[0;34m.\u001b[0m\u001b[0mcolumns\u001b[0m\u001b[0;34m,\u001b[0m \u001b[0mname\u001b[0m\u001b[0;34m=\u001b[0m\u001b[0mindexer\u001b[0m\u001b[0;34m)\u001b[0m\u001b[0;34m\u001b[0m\u001b[0;34m\u001b[0m\u001b[0m\n\u001b[1;32m   1861\u001b[0m \u001b[0;34m\u001b[0m\u001b[0m\n\u001b[0;32m-> 1862\u001b[0;31m             \u001b[0mself\u001b[0m\u001b[0;34m.\u001b[0m\u001b[0mobj\u001b[0m\u001b[0;34m.\u001b[0m\u001b[0m_mgr\u001b[0m \u001b[0;34m=\u001b[0m \u001b[0mself\u001b[0m\u001b[0;34m.\u001b[0m\u001b[0mobj\u001b[0m\u001b[0;34m.\u001b[0m\u001b[0mappend\u001b[0m\u001b[0;34m(\u001b[0m\u001b[0mvalue\u001b[0m\u001b[0;34m)\u001b[0m\u001b[0;34m.\u001b[0m\u001b[0m_mgr\u001b[0m\u001b[0;34m\u001b[0m\u001b[0;34m\u001b[0m\u001b[0m\n\u001b[0m\u001b[1;32m   1863\u001b[0m             \u001b[0mself\u001b[0m\u001b[0;34m.\u001b[0m\u001b[0mobj\u001b[0m\u001b[0;34m.\u001b[0m\u001b[0m_maybe_update_cacher\u001b[0m\u001b[0;34m(\u001b[0m\u001b[0mclear\u001b[0m\u001b[0;34m=\u001b[0m\u001b[0;32mTrue\u001b[0m\u001b[0;34m)\u001b[0m\u001b[0;34m\u001b[0m\u001b[0;34m\u001b[0m\u001b[0m\n\u001b[1;32m   1864\u001b[0m \u001b[0;34m\u001b[0m\u001b[0m\n",
      "\u001b[0;32m~/myenv/lib/python3.6/site-packages/pandas/core/frame.py\u001b[0m in \u001b[0;36mappend\u001b[0;34m(self, other, ignore_index, verify_integrity, sort)\u001b[0m\n\u001b[1;32m   7717\u001b[0m                 \u001b[0mcombined_columns\u001b[0m \u001b[0;34m=\u001b[0m \u001b[0mself\u001b[0m\u001b[0;34m.\u001b[0m\u001b[0mcolumns\u001b[0m\u001b[0;34m.\u001b[0m\u001b[0mastype\u001b[0m\u001b[0;34m(\u001b[0m\u001b[0mobject\u001b[0m\u001b[0;34m)\u001b[0m\u001b[0;34m.\u001b[0m\u001b[0mappend\u001b[0m\u001b[0;34m(\u001b[0m\u001b[0midx_diff\u001b[0m\u001b[0;34m)\u001b[0m\u001b[0;34m\u001b[0m\u001b[0;34m\u001b[0m\u001b[0m\n\u001b[1;32m   7718\u001b[0m             other = (\n\u001b[0;32m-> 7719\u001b[0;31m                 \u001b[0mother\u001b[0m\u001b[0;34m.\u001b[0m\u001b[0mreindex\u001b[0m\u001b[0;34m(\u001b[0m\u001b[0mcombined_columns\u001b[0m\u001b[0;34m,\u001b[0m \u001b[0mcopy\u001b[0m\u001b[0;34m=\u001b[0m\u001b[0;32mFalse\u001b[0m\u001b[0;34m)\u001b[0m\u001b[0;34m\u001b[0m\u001b[0;34m\u001b[0m\u001b[0m\n\u001b[0m\u001b[1;32m   7720\u001b[0m                 \u001b[0;34m.\u001b[0m\u001b[0mto_frame\u001b[0m\u001b[0;34m(\u001b[0m\u001b[0;34m)\u001b[0m\u001b[0;34m\u001b[0m\u001b[0;34m\u001b[0m\u001b[0m\n\u001b[1;32m   7721\u001b[0m                 \u001b[0;34m.\u001b[0m\u001b[0mT\u001b[0m\u001b[0;34m.\u001b[0m\u001b[0minfer_objects\u001b[0m\u001b[0;34m(\u001b[0m\u001b[0;34m)\u001b[0m\u001b[0;34m\u001b[0m\u001b[0;34m\u001b[0m\u001b[0m\n",
      "\u001b[0;32m~/myenv/lib/python3.6/site-packages/pandas/core/frame.py\u001b[0m in \u001b[0;36mT\u001b[0;34m(self)\u001b[0m\n\u001b[1;32m   2809\u001b[0m     \u001b[0;34m@\u001b[0m\u001b[0mproperty\u001b[0m\u001b[0;34m\u001b[0m\u001b[0;34m\u001b[0m\u001b[0m\n\u001b[1;32m   2810\u001b[0m     \u001b[0;32mdef\u001b[0m \u001b[0mT\u001b[0m\u001b[0;34m(\u001b[0m\u001b[0mself\u001b[0m\u001b[0;34m)\u001b[0m \u001b[0;34m->\u001b[0m \u001b[0;34m\"DataFrame\"\u001b[0m\u001b[0;34m:\u001b[0m\u001b[0;34m\u001b[0m\u001b[0;34m\u001b[0m\u001b[0m\n\u001b[0;32m-> 2811\u001b[0;31m         \u001b[0;32mreturn\u001b[0m \u001b[0mself\u001b[0m\u001b[0;34m.\u001b[0m\u001b[0mtranspose\u001b[0m\u001b[0;34m(\u001b[0m\u001b[0;34m)\u001b[0m\u001b[0;34m\u001b[0m\u001b[0;34m\u001b[0m\u001b[0m\n\u001b[0m\u001b[1;32m   2812\u001b[0m \u001b[0;34m\u001b[0m\u001b[0m\n\u001b[1;32m   2813\u001b[0m     \u001b[0;31m# ----------------------------------------------------------------------\u001b[0m\u001b[0;34m\u001b[0m\u001b[0;34m\u001b[0m\u001b[0;34m\u001b[0m\u001b[0m\n",
      "\u001b[0;32m~/myenv/lib/python3.6/site-packages/pandas/core/frame.py\u001b[0m in \u001b[0;36mtranspose\u001b[0;34m(self, copy, *args)\u001b[0m\n\u001b[1;32m   2785\u001b[0m         \u001b[0;31m# construct the args\u001b[0m\u001b[0;34m\u001b[0m\u001b[0;34m\u001b[0m\u001b[0;34m\u001b[0m\u001b[0m\n\u001b[1;32m   2786\u001b[0m \u001b[0;34m\u001b[0m\u001b[0m\n\u001b[0;32m-> 2787\u001b[0;31m         \u001b[0mdtypes\u001b[0m \u001b[0;34m=\u001b[0m \u001b[0mlist\u001b[0m\u001b[0;34m(\u001b[0m\u001b[0mself\u001b[0m\u001b[0;34m.\u001b[0m\u001b[0mdtypes\u001b[0m\u001b[0;34m)\u001b[0m\u001b[0;34m\u001b[0m\u001b[0;34m\u001b[0m\u001b[0m\n\u001b[0m\u001b[1;32m   2788\u001b[0m         \u001b[0;32mif\u001b[0m \u001b[0mself\u001b[0m\u001b[0;34m.\u001b[0m\u001b[0m_is_homogeneous_type\u001b[0m \u001b[0;32mand\u001b[0m \u001b[0mdtypes\u001b[0m \u001b[0;32mand\u001b[0m \u001b[0mis_extension_array_dtype\u001b[0m\u001b[0;34m(\u001b[0m\u001b[0mdtypes\u001b[0m\u001b[0;34m[\u001b[0m\u001b[0;36m0\u001b[0m\u001b[0;34m]\u001b[0m\u001b[0;34m)\u001b[0m\u001b[0;34m:\u001b[0m\u001b[0;34m\u001b[0m\u001b[0;34m\u001b[0m\u001b[0m\n\u001b[1;32m   2789\u001b[0m             \u001b[0;31m# We have EAs with the same dtype. We can preserve that dtype in transpose.\u001b[0m\u001b[0;34m\u001b[0m\u001b[0;34m\u001b[0m\u001b[0;34m\u001b[0m\u001b[0m\n",
      "\u001b[0;32m~/myenv/lib/python3.6/site-packages/pandas/core/generic.py\u001b[0m in \u001b[0;36mdtypes\u001b[0;34m(self)\u001b[0m\n\u001b[1;32m   5368\u001b[0m         \"\"\"\n\u001b[1;32m   5369\u001b[0m         \u001b[0mdata\u001b[0m \u001b[0;34m=\u001b[0m \u001b[0mself\u001b[0m\u001b[0;34m.\u001b[0m\u001b[0m_mgr\u001b[0m\u001b[0;34m.\u001b[0m\u001b[0mget_dtypes\u001b[0m\u001b[0;34m(\u001b[0m\u001b[0;34m)\u001b[0m\u001b[0;34m\u001b[0m\u001b[0;34m\u001b[0m\u001b[0m\n\u001b[0;32m-> 5370\u001b[0;31m         \u001b[0;32mreturn\u001b[0m \u001b[0mself\u001b[0m\u001b[0;34m.\u001b[0m\u001b[0m_constructor_sliced\u001b[0m\u001b[0;34m(\u001b[0m\u001b[0mdata\u001b[0m\u001b[0;34m,\u001b[0m \u001b[0mindex\u001b[0m\u001b[0;34m=\u001b[0m\u001b[0mself\u001b[0m\u001b[0;34m.\u001b[0m\u001b[0m_info_axis\u001b[0m\u001b[0;34m,\u001b[0m \u001b[0mdtype\u001b[0m\u001b[0;34m=\u001b[0m\u001b[0mnp\u001b[0m\u001b[0;34m.\u001b[0m\u001b[0mobject_\u001b[0m\u001b[0;34m)\u001b[0m\u001b[0;34m\u001b[0m\u001b[0;34m\u001b[0m\u001b[0m\n\u001b[0m\u001b[1;32m   5371\u001b[0m \u001b[0;34m\u001b[0m\u001b[0m\n\u001b[1;32m   5372\u001b[0m     \u001b[0;32mdef\u001b[0m \u001b[0m_to_dict_of_blocks\u001b[0m\u001b[0;34m(\u001b[0m\u001b[0mself\u001b[0m\u001b[0;34m,\u001b[0m \u001b[0mcopy\u001b[0m\u001b[0;34m:\u001b[0m \u001b[0mbool_t\u001b[0m \u001b[0;34m=\u001b[0m \u001b[0;32mTrue\u001b[0m\u001b[0;34m)\u001b[0m\u001b[0;34m:\u001b[0m\u001b[0;34m\u001b[0m\u001b[0;34m\u001b[0m\u001b[0m\n",
      "\u001b[0;32m~/myenv/lib/python3.6/site-packages/pandas/core/series.py\u001b[0m in \u001b[0;36m__init__\u001b[0;34m(self, data, index, dtype, name, copy, fastpath)\u001b[0m\n\u001b[1;32m    331\u001b[0m         \u001b[0mgeneric\u001b[0m\u001b[0;34m.\u001b[0m\u001b[0mNDFrame\u001b[0m\u001b[0;34m.\u001b[0m\u001b[0m__init__\u001b[0m\u001b[0;34m(\u001b[0m\u001b[0mself\u001b[0m\u001b[0;34m,\u001b[0m \u001b[0mdata\u001b[0m\u001b[0;34m)\u001b[0m\u001b[0;34m\u001b[0m\u001b[0;34m\u001b[0m\u001b[0m\n\u001b[1;32m    332\u001b[0m         \u001b[0mself\u001b[0m\u001b[0;34m.\u001b[0m\u001b[0mname\u001b[0m \u001b[0;34m=\u001b[0m \u001b[0mname\u001b[0m\u001b[0;34m\u001b[0m\u001b[0;34m\u001b[0m\u001b[0m\n\u001b[0;32m--> 333\u001b[0;31m         \u001b[0mself\u001b[0m\u001b[0;34m.\u001b[0m\u001b[0m_set_axis\u001b[0m\u001b[0;34m(\u001b[0m\u001b[0;36m0\u001b[0m\u001b[0;34m,\u001b[0m \u001b[0mindex\u001b[0m\u001b[0;34m,\u001b[0m \u001b[0mfastpath\u001b[0m\u001b[0;34m=\u001b[0m\u001b[0;32mTrue\u001b[0m\u001b[0;34m)\u001b[0m\u001b[0;34m\u001b[0m\u001b[0;34m\u001b[0m\u001b[0m\n\u001b[0m\u001b[1;32m    334\u001b[0m \u001b[0;34m\u001b[0m\u001b[0m\n\u001b[1;32m    335\u001b[0m     \u001b[0;32mdef\u001b[0m \u001b[0m_init_dict\u001b[0m\u001b[0;34m(\u001b[0m\u001b[0mself\u001b[0m\u001b[0;34m,\u001b[0m \u001b[0mdata\u001b[0m\u001b[0;34m,\u001b[0m \u001b[0mindex\u001b[0m\u001b[0;34m=\u001b[0m\u001b[0;32mNone\u001b[0m\u001b[0;34m,\u001b[0m \u001b[0mdtype\u001b[0m\u001b[0;34m=\u001b[0m\u001b[0;32mNone\u001b[0m\u001b[0;34m)\u001b[0m\u001b[0;34m:\u001b[0m\u001b[0;34m\u001b[0m\u001b[0;34m\u001b[0m\u001b[0m\n",
      "\u001b[0;31mKeyboardInterrupt\u001b[0m: "
     ]
    }
   ],
   "source": [
    "train_df = make_df(\"../train/lcp_single_train.tsv\")\n",
    "valid_df = make_df(\"../trial/lcp_single_trial.tsv\")\n",
    "test_df = make_df(\"../test-labels/lcp_single_test.tsv\")"
   ]
  },
  {
   "cell_type": "code",
   "execution_count": 16,
   "metadata": {},
   "outputs": [],
   "source": [
    "def syllable_count(word):\n",
    "    word = word.lower()\n",
    "    count = 0\n",
    "    vowels = \"aeiouy\"\n",
    "    if word[0] in vowels:\n",
    "        count += 1\n",
    "    for index in range(1, len(word)):\n",
    "        if word[index] in vowels and word[index - 1] not in vowels:\n",
    "            count += 1\n",
    "    if word.endswith(\"e\"):\n",
    "        count -= 1\n",
    "    if count == 0:\n",
    "        count += 1\n",
    "    return count"
   ]
  },
  {
   "cell_type": "code",
   "execution_count": 17,
   "metadata": {},
   "outputs": [],
   "source": [
    "def get_feature_vector(sent,target1,target2):\n",
    "    \n",
    "    #---------------------------------------TARGET1--------------------------------------#\n",
    "    #dependency parsing\n",
    "    target_synsets = 0\n",
    "    no_of_dep = 0\n",
    "    dep_synset_avg = 0\n",
    "    head_synset = 0\n",
    "    syll_cnt = syllable_count(target1)\n",
    "    nltk_tokens = nltk_tokenizer.tokenize(sent)\n",
    "    for token in nlp(nltk_tokens):\n",
    "        if token.text == target1:\n",
    "            target_synsets = len(wn.synsets(target1))\n",
    "            no_of_dep = len(list(token.children))\n",
    "            head_synset = len(wn.synsets(token.head.text))\n",
    "            if no_of_dep:\n",
    "                for i in token.children:\n",
    "                    dep_synset_avg += len(wn.synsets(i.text))\n",
    "                dep_synset_avg /= no_of_dep\n",
    "    \n",
    "    \n",
    "    #---------------------------------finding relative freq----------------------------#\n",
    "    word_freq = word_frequency(target1, lang='en',wordlist = 'large', minimum=0.0)\n",
    "    syn_freq = 0\n",
    "    synset = lesk(sent, target1)\n",
    "    synonym_list = None\n",
    "    if synset is not None:\n",
    "        synonym_list =synset.lemma_names()\n",
    "    \n",
    "    lb_freq = word_freq;ub_freq=word_freq\n",
    "    \n",
    "    if synonym_list!=None:\n",
    "        for w in synonym_list:\n",
    "            freq = word_frequency(w,lang='en',wordlist = 'large',minimum=0.0)\n",
    "            lb_freq = min(lb_freq,freq)\n",
    "            ub_freq = max(ub_freq,freq)\n",
    "    \n",
    "    rel_freq = np.exp(-(ub_freq-word_freq)/(ub_freq-lb_freq+ 1e-7))\n",
    "    hypernym_sim =0 \n",
    "    hyponym_sim = 0 \n",
    "    wsd = lesk(sent, target1)\n",
    "    cnt_0 =0 ;cnt_1=0\n",
    "    if wsd:\n",
    "        \n",
    "        for hyper in wsd.hypernyms():\n",
    "            cnt_0+=1\n",
    "            hypernym_sim += wsd.wup_similarity(hyper)\n",
    "        if cnt_0:\n",
    "            hypernym_sim /= cnt_0\n",
    "        \n",
    "        for hypo in wsd.hyponyms():\n",
    "            cnt_1+=1\n",
    "            hyponym_sim += wsd.wup_similarity(hypo)\n",
    "        if cnt_1:\n",
    "            hyponym_sim /= cnt_1\n",
    "        \n",
    "    word_len = len(target1)/50\n",
    "    lemmatized_len = (len(target1)-len(lemmatizer.lemmatize(target1)))/40\n",
    "    try:\n",
    "        wv = list(w2v_model.wv[target1])\n",
    "    except KeyError:\n",
    "        wv = [0]*cfg.w2v_dim\n",
    "    feature_vec1 = cfg.alpha*torch.tensor(wv+\n",
    "                                          [word_freq,\n",
    "                                           #lb_freq,\n",
    "                                           #ub_freq,\n",
    "                                           syll_cnt,\n",
    "                                           rel_freq,\n",
    "                                           hypernym_sim,\n",
    "                                           word_len,\n",
    "                                           hyponym_sim,\n",
    "                                           cnt_0,\n",
    "                                           cnt_1,\n",
    "                                           target_synsets,\n",
    "                                           no_of_dep,\n",
    "                                           dep_synset_avg,\n",
    "                                           head_synset,\n",
    "                                           lemmatized_len]).to(device)\n",
    "    \n",
    "    if target1==target2: return feature_vec1\n",
    "    #----------------------------------------TARGET2----------------------------------------------#\n",
    "    \n",
    "    #dependency parsing\n",
    "    target_synsets = 0\n",
    "    no_of_dep = 0\n",
    "    dep_synset_avg = 0\n",
    "    head_synset = 0\n",
    "    syll_cnt = syllable_count(target2)\n",
    "    nltk_tokens = nltk_tokenizer.tokenize(sent)\n",
    "    for token in nlp(nltk_tokens):\n",
    "        if token.text == target2:\n",
    "            target_synsets = len(wn.synsets(target2))\n",
    "            no_of_dep = len(list(token.children))\n",
    "            head_synset = len(wn.synsets(token.head.text))\n",
    "            if no_of_dep:\n",
    "                for i in token.children:\n",
    "                    dep_synset_avg += len(wn.synsets(i.text))\n",
    "                dep_synset_avg /=no_of_dep\n",
    "    \n",
    "    \n",
    "    #---------------------------------finding relative freq----------------------------#\n",
    "    word_freq = word_frequency(target2, lang='en',wordlist = 'large', minimum=0.0)\n",
    "    syn_freq = 0\n",
    "    synset = lesk(sent, target2)\n",
    "    synonym_list = None\n",
    "    if synset is not None:\n",
    "        synonym_list =synset.lemma_names()\n",
    "    \n",
    "    lb_freq = word_freq;ub_freq=word_freq\n",
    "    \n",
    "    if synonym_list!=None:\n",
    "        for w in synonym_list:\n",
    "            freq = word_frequency(w,lang='en',wordlist = 'large',minimum=0.0)\n",
    "            lb_freq = min(lb_freq,freq)\n",
    "            ub_freq = max(ub_freq,freq)\n",
    "    \n",
    "    rel_freq = np.exp(-(ub_freq-word_freq)/(ub_freq-lb_freq+ 1e-7))\n",
    "    hypernym_sim =0 \n",
    "    hyponym_sim = 0 \n",
    "    wsd = lesk(sent, target2)\n",
    "    cnt_0 =0 ;cnt_1=0\n",
    "    if wsd:\n",
    "        \n",
    "        for hyper in wsd.hypernyms():\n",
    "            cnt_0+=1\n",
    "            hypernym_sim += wsd.wup_similarity(hyper)\n",
    "        if cnt_0:\n",
    "            hypernym_sim /= cnt_0\n",
    "        \n",
    "        for hypo in wsd.hyponyms():\n",
    "            cnt_1+=1\n",
    "            hyponym_sim += wsd.wup_similarity(hypo)\n",
    "        if cnt_1:\n",
    "            hyponym_sim /= cnt_1\n",
    "        \n",
    "    word_len = len(target2)/50\n",
    "    lemmatized_len = (len(target2)-len(lemmatizer.lemmatize(target2)))/40\n",
    "    try:\n",
    "        wv = list(w2v_model.wv[target2])\n",
    "    except KeyError:\n",
    "        wv = [0]*cfg.w2v_dim\n",
    "    feature_vec2 = cfg.alpha*torch.tensor(wv+\n",
    "                                          [word_freq,\n",
    "                                           #lb_freq,\n",
    "                                           #ub_freq,\n",
    "                                           syll_cnt,\n",
    "                                           rel_freq,\n",
    "                                           hypernym_sim,\n",
    "                                           word_len,\n",
    "                                           hyponym_sim,\n",
    "                                           cnt_0,\n",
    "                                           cnt_1,\n",
    "                                           target_synsets,\n",
    "                                           no_of_dep,\n",
    "                                           dep_synset_avg,\n",
    "                                           head_synset,\n",
    "                                           lemmatized_len]).to(device)\n",
    "    \n",
    "    \n",
    "    final_emb = torch.cat((feature_vec1,feature_vec2),dim=0)\n",
    "    return final_emb"
   ]
  },
  {
   "cell_type": "code",
   "execution_count": 19,
   "metadata": {
    "id": "KcVVMN8eDta4"
   },
   "outputs": [],
   "source": [
    "class CustomDataset(Dataset):\n",
    "  def __init__(self,df):\n",
    "    self.data=[]\n",
    "    ct = 0\n",
    "    for i in tqdm(range(len(df))):\n",
    "        try:\n",
    "            target1 = df.loc[i]['token'].lower()\n",
    "            target2 = df.loc[i]['token'].lower()\n",
    "\n",
    "            emb = get_feature_vector(df.loc[i]['sentence'],target1,target2)\n",
    "            complexity = torch.tensor(df.loc[i]['complexity']).to(device)\n",
    "            self.data.append([emb,complexity])\n",
    "        except KeyError:\n",
    "            ct += 1\n",
    "            continue\n",
    "    print(ct)\n",
    "  def __len__(self):\n",
    "    return len(self.data)\n",
    "  def __getitem__(self,idx):\n",
    "    return self.data[idx][0],self.data[idx][1]"
   ]
  },
  {
   "cell_type": "code",
   "execution_count": 20,
   "metadata": {},
   "outputs": [
    {
     "data": {
      "application/vnd.jupyter.widget-view+json": {
       "model_id": "68681bfce197428eab5b74015119c3aa",
       "version_major": 2,
       "version_minor": 0
      },
      "text/plain": [
       "  0%|          | 0/7662 [00:00<?, ?it/s]"
      ]
     },
     "metadata": {},
     "output_type": "display_data"
    },
    {
     "name": "stdout",
     "output_type": "stream",
     "text": [
      "0\n"
     ]
    },
    {
     "data": {
      "application/vnd.jupyter.widget-view+json": {
       "model_id": "e16b0566c98b4a43865f1e12af890d29",
       "version_major": 2,
       "version_minor": 0
      },
      "text/plain": [
       "  0%|          | 0/421 [00:00<?, ?it/s]"
      ]
     },
     "metadata": {},
     "output_type": "display_data"
    },
    {
     "name": "stdout",
     "output_type": "stream",
     "text": [
      "0\n"
     ]
    },
    {
     "data": {
      "application/vnd.jupyter.widget-view+json": {
       "model_id": "922ed472a57d4f0ea01b9b9442bdf8b6",
       "version_major": 2,
       "version_minor": 0
      },
      "text/plain": [
       "  0%|          | 0/917 [00:00<?, ?it/s]"
      ]
     },
     "metadata": {},
     "output_type": "display_data"
    },
    {
     "name": "stdout",
     "output_type": "stream",
     "text": [
      "0\n"
     ]
    }
   ],
   "source": [
    "train_dataset1 = CustomDataset(train_df)\n",
    "valid_dataset1 = CustomDataset(valid_df)\n",
    "test_dataset1 = CustomDataset(test_df)"
   ]
  },
  {
   "cell_type": "code",
   "execution_count": 21,
   "metadata": {},
   "outputs": [],
   "source": [
    "X_train = []\n",
    "y_train = []\n",
    "for b in train_dataset1:\n",
    "    X_train.append(b[0].cpu().numpy())\n",
    "    y_train.append(b[1].cpu().numpy())\n",
    "X_train = np.array(X_train)\n",
    "y_train = np.array(y_train)\n",
    "\n",
    "X_valid = []\n",
    "y_valid = []\n",
    "for b in valid_dataset1:\n",
    "    X_valid.append(b[0].cpu().numpy())\n",
    "    y_valid.append(b[1].cpu().numpy())\n",
    "X_valid = np.array(X_valid)    \n",
    "y_valid = np.array(y_valid)\n",
    "\n",
    "X_test = []\n",
    "y_test = []\n",
    "for b in test_dataset1:\n",
    "    X_test.append(b[0].cpu().numpy())\n",
    "    y_test.append(b[1].cpu().numpy())\n",
    "X_test = np.array(X_test)    \n",
    "y_test = np.array(y_test)"
   ]
  },
  {
   "cell_type": "code",
   "execution_count": 99,
   "metadata": {},
   "outputs": [
    {
     "data": {
      "text/plain": [
       "GradientBoostingRegressor(random_state=42)"
      ]
     },
     "execution_count": 99,
     "metadata": {},
     "output_type": "execute_result"
    }
   ],
   "source": [
    "import xgboost as xg\n",
    "from sklearn.svm import SVR\n",
    "from tpot import TPOTRegressor\n",
    "from sklearn.ensemble import GradientBoostingClassifier,GradientBoostingRegressor,AdaBoostRegressor,StackingRegressor\n",
    "from sklearn.linear_model import LinearRegression\n",
    "from sklearn.preprocessing import StandardScaler\n",
    "from sklearn.model_selection import GridSearchCV\n",
    "scaler = StandardScaler()\n",
    "X_train_norm = scaler.fit_transform(X_train)\n",
    "estimators = [('regr1',xg.XGBRegressor(n_estimators = 12, seed = 42)),\n",
    "              ('regr2',AdaBoostRegressor(random_state=42)),\n",
    "              ('regr3',GradientBoostingRegressor(random_state=42))]\n",
    "#regr = StackingRegressor(estimators)\n",
    "#regr = StackingRegressor(estimators)#GradientBoostingRegressor(random_state=42)\n",
    "regr1 = GradientBoostingRegressor(random_state=42)\n",
    "regr1.fit(X_train_norm,y_train)\n",
    "#params = {'n_estimators':[50,100,200,300,400],'learning_rate':[1,2,4,6,8],'loss':['linear','exponential','square']}\n",
    "#gs = GridSearchCV(regr,params)\n",
    "#gs.fit(X_train_norm,y_train)\n"
   ]
  },
  {
   "cell_type": "code",
   "execution_count": 100,
   "metadata": {},
   "outputs": [
    {
     "data": {
      "text/plain": [
       "(0.7678129236278173, 4.8481831286293006e-83)"
      ]
     },
     "execution_count": 100,
     "metadata": {},
     "output_type": "execute_result"
    }
   ],
   "source": [
    "preds1_v = regr.predict(scaler.transform(X_valid))\n",
    "print('trial score for non-contextual:',evaluator0(preds1_v,y_valid))"
   ]
  },
  {
   "cell_type": "code",
   "execution_count": 101,
   "metadata": {},
   "outputs": [
    {
     "data": {
      "text/plain": [
       "(0.7320292484046482, 1.1096089884198686e-154)"
      ]
     },
     "execution_count": 101,
     "metadata": {},
     "output_type": "execute_result"
    }
   ],
   "source": [
    "preds1_t = regr.predict(scaler.transform(X_test))\n",
    "print('test score for non-contextual:',evaluator0(preds1_t,y_test))"
   ]
  },
  {
   "cell_type": "markdown",
   "metadata": {},
   "source": [
    "Bert Based Ordinal"
   ]
  },
  {
   "cell_type": "code",
   "execution_count": 30,
   "metadata": {},
   "outputs": [],
   "source": [
    "def get_embedding_pipeline(sent,target1,target2,bert_tokenizer,model):\n",
    "  nltk_tokenizer = RegexpTokenizer(r'[a-zA-Z]+')\n",
    "    \n",
    "  nltk_tokens = nltk_tokenizer.tokenize(sent)\n",
    "  word2berttokens = {}\n",
    "  final_tokens = ['[CLS]']\n",
    "  for token in nltk_tokens:\n",
    "    tokenized_text = bert_tokenizer.tokenize(token)\n",
    "    word2berttokens[token] = tokenized_text\n",
    "    final_tokens += tokenized_text\n",
    "  final_tokens += ['[SEP]']\n",
    "  indexed_tokens = bert_tokenizer.convert_tokens_to_ids(final_tokens)\n",
    "  tokens_tensor = torch.tensor([indexed_tokens]).to(device)\n",
    "  tok2idx = dict(zip(final_tokens, list(range(len(indexed_tokens)))))\n",
    "  model.eval()\n",
    "  \n",
    "  \n",
    "  with torch.no_grad():\n",
    "    outputs = model(tokens_tensor)\n",
    "    hidden_state = outputs[2]\n",
    "    word_embed= torch.cat([hidden_state[i] for  i in [-1,-2,-3,-4]],dim=-1)\n",
    "      \n",
    "  try: \n",
    "    target_word_tokenid1 = [tok2idx[i] for i in word2berttokens[target1]]\n",
    "    target_word_tokenid2 = [tok2idx[i] for i in word2berttokens[target2]]\n",
    "  except KeyError:\n",
    "    return None\n",
    "  embed1 = torch.zeros(cfg.embed_dim).to(device) ; embed2 = torch.zeros(cfg.embed_dim).to(device)\n",
    "  for i in range(len(target_word_tokenid1)):\n",
    "    embed1 = embed1 + word_embed[0,target_word_tokenid1[i]]\n",
    "  embed1 /=len(target_word_tokenid1)\n",
    "  if target1==target2: return embed1 \n",
    "  for i in range(len(target_word_tokenid2)):\n",
    "    embed2 = embed2 + word_embed[0,target_word_tokenid2[i]]\n",
    "  embed2 /=len(target_word_tokenid2)\n",
    "  return torch.cat((embed1,embed2),dim=0)"
   ]
  },
  {
   "cell_type": "code",
   "execution_count": 29,
   "metadata": {
    "id": "p7PXvEppGASL"
   },
   "outputs": [
    {
     "data": {
      "application/vnd.jupyter.widget-view+json": {
       "model_id": "c616473e3b4b4e1e869959b4b41e9254",
       "version_major": 2,
       "version_minor": 0
      },
      "text/plain": [
       "Downloading:   0%|          | 0.00/213k [00:00<?, ?B/s]"
      ]
     },
     "metadata": {},
     "output_type": "display_data"
    },
    {
     "data": {
      "application/vnd.jupyter.widget-view+json": {
       "model_id": "3fe42369956442ada81c9db220fbb361",
       "version_major": 2,
       "version_minor": 0
      },
      "text/plain": [
       "Downloading:   0%|          | 0.00/29.0 [00:00<?, ?B/s]"
      ]
     },
     "metadata": {},
     "output_type": "display_data"
    },
    {
     "data": {
      "application/vnd.jupyter.widget-view+json": {
       "model_id": "b07d7950fb0245a4b3f7d29a33b357fc",
       "version_major": 2,
       "version_minor": 0
      },
      "text/plain": [
       "Downloading:   0%|          | 0.00/436k [00:00<?, ?B/s]"
      ]
     },
     "metadata": {},
     "output_type": "display_data"
    },
    {
     "data": {
      "application/vnd.jupyter.widget-view+json": {
       "model_id": "c229bc528b7142a596b206ab06ba6262",
       "version_major": 2,
       "version_minor": 0
      },
      "text/plain": [
       "Downloading:   0%|          | 0.00/433 [00:00<?, ?B/s]"
      ]
     },
     "metadata": {},
     "output_type": "display_data"
    },
    {
     "data": {
      "application/vnd.jupyter.widget-view+json": {
       "model_id": "a73b8fec2ccb4ca695f29042f1207935",
       "version_major": 2,
       "version_minor": 0
      },
      "text/plain": [
       "Downloading:   0%|          | 0.00/436M [00:00<?, ?B/s]"
      ]
     },
     "metadata": {},
     "output_type": "display_data"
    }
   ],
   "source": [
    "tokenizer = BertTokenizer.from_pretrained('bert-base-cased')\n",
    "model = BertModel.from_pretrained('bert-base-cased',output_hidden_states=True)\n",
    "model = model.to(device)"
   ]
  },
  {
   "cell_type": "code",
   "execution_count": 37,
   "metadata": {},
   "outputs": [],
   "source": [
    "class CustomDataset2(Dataset):\n",
    "  def __init__(self,df,tokenizer,model,istrain=False):\n",
    "    self.df = df\n",
    "    self.tokenizer = tokenizer\n",
    "    self.model = model\n",
    "    self.data=[]\n",
    "    self.eye = torch.eye(cfg.classes)\n",
    "    for i in tqdm(range(len(df))):\n",
    "        t1 = self.df.loc[i]['token']#.strip().split(\" \")[0]\n",
    "        t2 = self.df.loc[i]['token']#.strip().split(\" \")[1]\n",
    "        emb = get_embedding_pipeline(self.df.loc[i]['sentence'],\n",
    "                                     t1,\n",
    "                                     t2,\n",
    "                                     self.tokenizer,\n",
    "                                     self.model)\n",
    "        y_label = int((self.df.loc[i]['complexity']*(cfg.classes-1))//1)\n",
    "        lower_tril = torch.tril(torch.ones(cfg.classes,cfg.classes))\n",
    "        lower_tril = lower_tril[:-1]\n",
    "        lower_tril = torch.cat([torch.zeros(1,lower_tril.size()[1]),lower_tril ],dim=0)\n",
    "        lower_tril= lower_tril[:,:-1]\n",
    "        y_label = lower_tril[y_label]\n",
    "        \n",
    "        if istrain:\n",
    "            complexity = torch.tensor(y_label).to(device)\n",
    "        else:\n",
    "            complexity = torch.tensor(self.df.loc[i]['complexity']).to(device)\n",
    "        if emb is None: \n",
    "            print(\"LOL\")\n",
    "            if istrain==False:\n",
    "                emb = torch.zeros(cfg.embed_dim).to(device)\n",
    "                self.data.append([emb,complexity])\n",
    "            continue\n",
    "        self.data.append([emb,complexity])\n",
    "\n",
    "  def __len__(self):\n",
    "    return len(self.data)\n",
    "  def __getitem__(self,idx):\n",
    "    return self.data[idx][0],self.data[idx][1]"
   ]
  },
  {
   "cell_type": "code",
   "execution_count": 38,
   "metadata": {},
   "outputs": [],
   "source": [
    "from torch.nn.modules.loss import _WeightedLoss\n",
    "import torch.nn.functional as F"
   ]
  },
  {
   "cell_type": "code",
   "execution_count": 40,
   "metadata": {},
   "outputs": [
    {
     "data": {
      "application/vnd.jupyter.widget-view+json": {
       "model_id": "8f81c5b8ce784bbeb87ec2c8ac84a417",
       "version_major": 2,
       "version_minor": 0
      },
      "text/plain": [
       "  0%|          | 0/7662 [00:00<?, ?it/s]"
      ]
     },
     "metadata": {},
     "output_type": "display_data"
    },
    {
     "name": "stderr",
     "output_type": "stream",
     "text": [
      "/opt/conda/lib/python3.7/site-packages/ipykernel_launcher.py:24: UserWarning: To copy construct from a tensor, it is recommended to use sourceTensor.clone().detach() or sourceTensor.clone().detach().requires_grad_(True), rather than torch.tensor(sourceTensor).\n"
     ]
    },
    {
     "data": {
      "application/vnd.jupyter.widget-view+json": {
       "model_id": "abd1315a4607499fad42d196652f2816",
       "version_major": 2,
       "version_minor": 0
      },
      "text/plain": [
       "  0%|          | 0/421 [00:00<?, ?it/s]"
      ]
     },
     "metadata": {},
     "output_type": "display_data"
    }
   ],
   "source": [
    "train_dataset = CustomDataset2(train_df,tokenizer,model,True)\n",
    "valid_dataset = CustomDataset2(valid_df,tokenizer,model)"
   ]
  },
  {
   "cell_type": "code",
   "execution_count": 41,
   "metadata": {},
   "outputs": [],
   "source": [
    "train_dl = DataLoader(train_dataset,shuffle=True,batch_size=cfg.batch_sz)\n",
    "valid_dl = DataLoader(valid_dataset,shuffle=False,batch_size=cfg.batch_sz)"
   ]
  },
  {
   "cell_type": "code",
   "execution_count": 43,
   "metadata": {},
   "outputs": [],
   "source": [
    "class MLP(nn.Module):\n",
    "  def __init__(self,input_sz,hidden_layers=[128,32,16],classes=5):\n",
    "    super(MLP,self).__init__()\n",
    "    self.layers = [input_sz]+hidden_layers+[classes]\n",
    "    self.net = []\n",
    "    for h0,h1 in zip(self.layers,self.layers[1:]):\n",
    "      self.net.extend([nn.Linear(h0,h1),nn.ReLU(),nn.Dropout(cfg.dropout)])\n",
    "    self.net.pop();self.net.pop()\n",
    "    self.net.append(nn.Sigmoid())\n",
    "    print(self.net)\n",
    "    self.net = nn.Sequential(*self.net)\n",
    "  def forward(self,x):\n",
    "    y= self.net(x)\n",
    "    return y"
   ]
  },
  {
   "cell_type": "code",
   "execution_count": 44,
   "metadata": {},
   "outputs": [
    {
     "name": "stdout",
     "output_type": "stream",
     "text": [
      "[Linear(in_features=3072, out_features=1024, bias=True), ReLU(), Dropout(p=0.2, inplace=False), Linear(in_features=1024, out_features=512, bias=True), ReLU(), Dropout(p=0.2, inplace=False), Linear(in_features=512, out_features=256, bias=True), ReLU(), Dropout(p=0.2, inplace=False), Linear(in_features=256, out_features=32, bias=True), ReLU(), Dropout(p=0.2, inplace=False), Linear(in_features=32, out_features=9, bias=True), Sigmoid()]\n"
     ]
    }
   ],
   "source": [
    "net = MLP(cfg.embed_dim ,[1024,512,256,32],cfg.classes-1)\n",
    "net = net.double().to(device)\n",
    "cfg.niter = 200"
   ]
  },
  {
   "cell_type": "code",
   "execution_count": 45,
   "metadata": {},
   "outputs": [],
   "source": [
    "zero = torch.zeros(cfg.classes-1).to(device) \n",
    "for x,y in train_dl:\n",
    "    zero += torch.sum(y,dim=0)"
   ]
  },
  {
   "cell_type": "code",
   "execution_count": 46,
   "metadata": {},
   "outputs": [],
   "source": [
    "wt = []\n",
    "cnt_zeros = 0\n",
    "for i in range(cfg.classes - 1):\n",
    "    if zero[i].item() != 0:\n",
    "        wt.append(1)\n",
    "    else:\n",
    "        wt.append(0)\n",
    "        cnt_zeros+=1\n",
    "        "
   ]
  },
  {
   "cell_type": "code",
   "execution_count": 47,
   "metadata": {},
   "outputs": [],
   "source": [
    "optimizer = optim.Adam(net.parameters(), lr=cfg.lr)\n",
    "criterion1 = nn.MSELoss()\n",
    "criterion = nn.BCELoss(weight = torch.tensor(wt).to(device))"
   ]
  },
  {
   "cell_type": "code",
   "execution_count": 48,
   "metadata": {},
   "outputs": [],
   "source": [
    "def train(epoch, dataloader, net, criterion, optimizer, cfg , loss_arr, scheduler=None):\n",
    "  net.train()\n",
    "  for i,(x,y) in enumerate(dataloader):\n",
    "    x=x.double().to(device);y=y.double().to(device)\n",
    "    optimizer.zero_grad()\n",
    "    outp=net(x)\n",
    "    #outp = outp/ordinal_threshold\n",
    "    #outp = mask*outp\n",
    "    loss = criterion(outp,y)\n",
    "    loss.backward()\n",
    "    optimizer.step()\n",
    "    if scheduler:\n",
    "        scheduler.step()\n",
    "    if i % 10 == 0:\n",
    "        loss_arr.append(loss.item()/cfg.batch_sz)"
   ]
  },
  {
   "cell_type": "code",
   "execution_count": 49,
   "metadata": {},
   "outputs": [],
   "source": [
    "def valid(epoch, dataloader, net, criterion, optimizer, cfg):\n",
    "  total_loss = 0.\n",
    "  pearson_loss = 0\n",
    "  net.eval()\n",
    "  soft = nn.Softmax(dim=1)\n",
    "  for i,(x,y) in enumerate(dataloader):\n",
    "    with torch.no_grad():\n",
    "      x=x.double().to(device);y=y.double().to(device)\n",
    "      outp=net(x)\n",
    "      #mask = outp>ordinal_threshold\n",
    "      #outp = outp*mask  \n",
    "      outp1 = torch.sum(outp[:,:-cnt_zeros],dim=1)\n",
    "      \n",
    "      outp1/=(cfg.classes-1)\n",
    "      total_loss += criterion(outp1,y)\n",
    "      pearson_loss += evaluator0(outp1.flatten().tolist(),y.flatten().tolist())[0]\n",
    "\n",
    "  total_loss /= len(dataloader.dataset)\n",
    "  pearson_loss/=len(dataloader)\n",
    "  return total_loss,pearson_loss\n"
   ]
  },
  {
   "cell_type": "code",
   "execution_count": 50,
   "metadata": {},
   "outputs": [
    {
     "data": {
      "application/vnd.jupyter.widget-view+json": {
       "model_id": "52489303a3a8491488a9b15e5c5dd157",
       "version_major": 2,
       "version_minor": 0
      },
      "text/plain": [
       "  0%|          | 0/200 [00:00<?, ?it/s]"
      ]
     },
     "metadata": {},
     "output_type": "display_data"
    }
   ],
   "source": [
    "pearson_best=-1\n",
    "loss_arr = [];pearson_arr = []\n",
    "for epoch in tqdm(range(0, cfg.niter)):\n",
    "    train(epoch, train_dl, net, criterion, optimizer,cfg,[])\n",
    "    (loss,pearson)=valid(epoch, valid_dl, net, criterion1, optimizer, cfg)\n",
    "    loss_arr.append(loss)\n",
    "    pearson_arr.append(pearson)\n",
    "    if pearson_best<pearson:\n",
    "        pearson_best=pearson\n",
    "        torch.save({'model':net.state_dict(),'optimizer':optimizer.state_dict()},\"../saved_models/best_model\")"
   ]
  },
  {
   "cell_type": "code",
   "execution_count": 51,
   "metadata": {
    "id": "Tr62kRt4WQRn"
   },
   "outputs": [
    {
     "data": {
      "image/png": "[encoded data removed]",
      "text/plain": [
       "<Figure size 432x288 with 1 Axes>"
      ]
     },
     "metadata": {
      "needs_background": "light"
     },
     "output_type": "display_data"
    }
   ],
   "source": [
    "from matplotlib import pyplot as plt\n",
    "plt.plot(loss_arr)\n",
    "plt.xlabel('iter')\n",
    "plt.ylabel('loss')\n",
    "plt.show()"
   ]
  },
  {
   "cell_type": "markdown",
   "metadata": {},
   "source": [
    "## Testing"
   ]
  },
  {
   "cell_type": "code",
   "execution_count": 52,
   "metadata": {},
   "outputs": [
    {
     "data": {
      "image/png": "[encoded data removed]",
      "text/plain": [
       "<Figure size 432x288 with 1 Axes>"
      ]
     },
     "metadata": {
      "needs_background": "light"
     },
     "output_type": "display_data"
    }
   ],
   "source": [
    "from matplotlib import pyplot as plt\n",
    "plt.plot(pearson_arr)\n",
    "plt.xlabel('iter')\n",
    "plt.ylabel('pearson')\n",
    "plt.show()"
   ]
  },
  {
   "cell_type": "code",
   "execution_count": 53,
   "metadata": {},
   "outputs": [
    {
     "data": {
      "text/plain": [
       "0.7572061905090648"
      ]
     },
     "execution_count": 53,
     "metadata": {},
     "output_type": "execute_result"
    }
   ],
   "source": [
    "pearson_best"
   ]
  },
  {
   "cell_type": "code",
   "execution_count": 54,
   "metadata": {},
   "outputs": [],
   "source": [
    "states= torch.load('../saved_models/best_model')"
   ]
  },
  {
   "cell_type": "code",
   "execution_count": 55,
   "metadata": {},
   "outputs": [
    {
     "data": {
      "text/plain": [
       "<All keys matched successfully>"
      ]
     },
     "execution_count": 55,
     "metadata": {},
     "output_type": "execute_result"
    }
   ],
   "source": [
    "net.load_state_dict(states['model'])"
   ]
  },
  {
   "cell_type": "code",
   "execution_count": 56,
   "metadata": {},
   "outputs": [
    {
     "data": {
      "application/vnd.jupyter.widget-view+json": {
       "model_id": "7c537316e6ae414cbaa844509ffd4b04",
       "version_major": 2,
       "version_minor": 0
      },
      "text/plain": [
       "  0%|          | 0/917 [00:00<?, ?it/s]"
      ]
     },
     "metadata": {},
     "output_type": "display_data"
    },
    {
     "name": "stdout",
     "output_type": "stream",
     "text": [
      "LOL\n"
     ]
    }
   ],
   "source": [
    "test_dataset = CustomDataset2(test_df,tokenizer,model)\n",
    "test_dl = DataLoader(test_dataset,shuffle=False,batch_size=cfg.batch_sz)\n",
    "ordinal_threshold = 0.5"
   ]
  },
  {
   "cell_type": "code",
   "execution_count": 131,
   "metadata": {},
   "outputs": [],
   "source": [
    "ordinal_threshold = 0.725"
   ]
  },
  {
   "cell_type": "code",
   "execution_count": 132,
   "metadata": {},
   "outputs": [],
   "source": [
    "def test(dataloader, net, criterion, optimizer, cfg):\n",
    "    net.eval()\n",
    "    pred=[]\n",
    "    gts=[]\n",
    "    soft = nn.Softmax(dim=1)\n",
    "    for i,(x,y) in enumerate(dataloader):\n",
    "        with torch.no_grad():\n",
    "            x=x.double().to(device);y=y.double().to(device)\n",
    "            outp=net(x)\n",
    "#             outp = soft(outp)\n",
    "            mask = outp>ordinal_threshold\n",
    "            outp = mask*outp\n",
    "            print(outp[0])\n",
    "            outp1 = torch.sum(outp[:,:-cnt_zeros],dim=1)\n",
    "            outp1/=(cfg.classes-1)\n",
    "            print(outp1[0])\n",
    "            pred.extend(outp1.tolist())\n",
    "            gts.extend(y.tolist())\n",
    "    return pred,gts"
   ]
  },
  {
   "cell_type": "code",
   "execution_count": 133,
   "metadata": {},
   "outputs": [
    {
     "name": "stdout",
     "output_type": "stream",
     "text": [
      "tensor([0.9472, 0.0000, 0.0000, 0.0000, 0.0000, 0.0000, 0.0000, 0.0000, 0.0000],\n",
      "       device='cuda:0', dtype=torch.float64)\n",
      "tensor(0.1052, device='cuda:0', dtype=torch.float64)\n",
      "tensor([0.9658, 0.9810, 0.9290, 0.0000, 0.0000, 0.0000, 0.0000, 0.0000, 0.0000],\n",
      "       device='cuda:0', dtype=torch.float64)\n",
      "tensor(0.3195, device='cuda:0', dtype=torch.float64)\n",
      "-----------\n",
      " 0.0\n",
      "0.7387025762957424\n",
      "-----------\n",
      " 0.05\n",
      "0.7473141995486757\n",
      "-----------\n",
      " 0.1\n",
      "0.7554055295075373\n",
      "-----------\n",
      " 0.15000000000000002\n",
      "0.7629170115374386\n",
      "-----------\n",
      " 0.2\n",
      "0.7697907411518327\n",
      "-----------\n",
      " 0.25\n",
      "0.7759716128032192\n",
      "-----------\n",
      " 0.30000000000000004\n",
      "0.7814085014210423\n",
      "-----------\n",
      " 0.35000000000000003\n",
      "0.7860554326185417\n",
      "-----------\n",
      " 0.4\n",
      "0.7898726929801416\n",
      "-----------\n",
      " 0.45\n",
      "0.792827830304098\n",
      "-----------\n",
      " 0.5\n",
      "0.7948964956324388\n",
      "-----------\n",
      " 0.55\n",
      "0.7960630845411971\n",
      "-----------\n",
      " 0.6000000000000001\n",
      "0.7963211442780923\n",
      "-----------\n",
      " 0.65\n",
      "0.7956735252999897\n",
      "-----------\n",
      " 0.7000000000000001\n",
      "0.7941322695989831\n",
      "-----------\n",
      " 0.75\n",
      "0.7917182426919622\n",
      "-----------\n",
      " 0.8\n",
      "0.788460529978948\n",
      "-----------\n",
      " 0.8500000000000001\n",
      "0.7843956301353685\n",
      "-----------\n",
      " 0.9\n",
      "0.7795664873248253\n",
      "-----------\n",
      " 0.9500000000000001\n",
      "0.7740214096927226\n"
     ]
    }
   ],
   "source": [
    "preds2_v,gts = test(valid_dl,net,criterion,optimizer,cfg)\n",
    "best_f = 0\n",
    "best_p_c = -1\n",
    "for f in np.arange(0,1,0.05):\n",
    "    print(\"-----------\\n\",f)\n",
    "    preds1_n_v = preds1_v * (f)\n",
    "    preds2_n_v = np.array(preds2_v) * (1-f)\n",
    "    cpc = evaluator0((preds2_n_v+preds1_n_v),gts)[0]\n",
    "    print(cpc)\n",
    "    if cpc > best_p_c:\n",
    "        best_p_c = cpc\n",
    "        best_f = f\n",
    "    "
   ]
  },
  {
   "cell_type": "code",
   "execution_count": 134,
   "metadata": {},
   "outputs": [
    {
     "name": "stdout",
     "output_type": "stream",
     "text": [
      "0.6000000000000001 ... 0.7963211442780923\n"
     ]
    }
   ],
   "source": [
    "print(best_f,'...',best_p_c)"
   ]
  },
  {
   "cell_type": "code",
   "execution_count": 135,
   "metadata": {},
   "outputs": [
    {
     "name": "stdout",
     "output_type": "stream",
     "text": [
      "tensor([0.9255, 0.0000, 0.0000, 0.0000, 0.0000, 0.0000, 0.0000, 0.0000, 0.0000],\n",
      "       device='cuda:0', dtype=torch.float64)\n",
      "tensor(0.1028, device='cuda:0', dtype=torch.float64)\n",
      "tensor([0.9765, 0.9859, 0.9298, 0.0000, 0.0000, 0.0000, 0.0000, 0.0000, 0.0000],\n",
      "       device='cuda:0', dtype=torch.float64)\n",
      "tensor(0.3214, device='cuda:0', dtype=torch.float64)\n",
      "tensor([0.9651, 0.9021, 0.0000, 0.0000, 0.0000, 0.0000, 0.0000, 0.0000, 0.0000],\n",
      "       device='cuda:0', dtype=torch.float64)\n",
      "tensor(0.2075, device='cuda:0', dtype=torch.float64)\n",
      "tensor([0.9757, 0.8124, 0.0000, 0.0000, 0.0000, 0.0000, 0.0000, 0.0000, 0.0000],\n",
      "       device='cuda:0', dtype=torch.float64)\n",
      "tensor(0.1987, device='cuda:0', dtype=torch.float64)\n",
      "(0.7599379974433524, 2.2542364381792984e-173)\n",
      "SpearmanrResult(correlation=0.7196134579179357, pvalue=4.188723563972491e-147)\n"
     ]
    }
   ],
   "source": [
    "preds2_t,gts = test(test_dl,net,criterion,optimizer,cfg)\n",
    "f = best_f\n",
    "preds1_n_t = preds1_t * (f)\n",
    "preds2_n_t = np.array(preds2_t) * (1-f)\n",
    "print(evaluator0((preds2_n_t+preds1_n_t),gts))\n",
    "print(evaluator1((preds2_n_t+preds1_n_t),gts))"
   ]
  },
  {
   "cell_type": "code",
   "execution_count": 115,
   "metadata": {
    "scrolled": true
   },
   "outputs": [
    {
     "data": {
      "text/html": [
       "<div>\n",
       "<style scoped>\n",
       "    .dataframe tbody tr th:only-of-type {\n",
       "        vertical-align: middle;\n",
       "    }\n",
       "\n",
       "    .dataframe tbody tr th {\n",
       "        vertical-align: top;\n",
       "    }\n",
       "\n",
       "    .dataframe thead th {\n",
       "        text-align: right;\n",
       "    }\n",
       "</style>\n",
       "<table border=\"1\" class=\"dataframe\">\n",
       "  <thead>\n",
       "    <tr style=\"text-align: right;\">\n",
       "      <th></th>\n",
       "      <th>id</th>\n",
       "      <th>score</th>\n",
       "    </tr>\n",
       "  </thead>\n",
       "  <tbody>\n",
       "    <tr>\n",
       "      <th>0</th>\n",
       "      <td>3QI9WAYOGQB8GQIR4MDIEF0D2RLS67</td>\n",
       "      <td>0.146066</td>\n",
       "    </tr>\n",
       "    <tr>\n",
       "      <th>1</th>\n",
       "      <td>3T8DUCXY0N6WD9X4RTLK8UN1U929TF</td>\n",
       "      <td>0.145426</td>\n",
       "    </tr>\n",
       "    <tr>\n",
       "      <th>2</th>\n",
       "      <td>3I7KR83SNADXAQ7HXK7S7305BYB9KD</td>\n",
       "      <td>0.146696</td>\n",
       "    </tr>\n",
       "    <tr>\n",
       "      <th>3</th>\n",
       "      <td>3BO3NEOQM0HK9ERYPN0GQIWCPC4IAQ</td>\n",
       "      <td>0.145061</td>\n",
       "    </tr>\n",
       "    <tr>\n",
       "      <th>4</th>\n",
       "      <td>3Y3CZJSZ9KT0W7I0KE38WZHHKSW5RH</td>\n",
       "      <td>0.147508</td>\n",
       "    </tr>\n",
       "  </tbody>\n",
       "</table>\n",
       "</div>"
      ],
      "text/plain": [
       "                               id     score\n",
       "0  3QI9WAYOGQB8GQIR4MDIEF0D2RLS67  0.146066\n",
       "1  3T8DUCXY0N6WD9X4RTLK8UN1U929TF  0.145426\n",
       "2  3I7KR83SNADXAQ7HXK7S7305BYB9KD  0.146696\n",
       "3  3BO3NEOQM0HK9ERYPN0GQIWCPC4IAQ  0.145061\n",
       "4  3Y3CZJSZ9KT0W7I0KE38WZHHKSW5RH  0.147508"
      ]
     },
     "execution_count": 115,
     "metadata": {},
     "output_type": "execute_result"
    }
   ],
   "source": [
    "sub_df = pd.DataFrame(columns = ['id','score'])\n",
    "f = best_f\n",
    "preds1_n_v = preds1_v * (f)\n",
    "preds2_n_v = np.array(preds2_v) * (1-f)\n",
    "sub_df['id'] = valid_df['id']\n",
    "sub_df['score'] = preds1_n_v + preds2_n_v\n",
    "sub_df.head()"
   ]
  },
  {
   "cell_type": "code",
   "execution_count": 116,
   "metadata": {},
   "outputs": [],
   "source": [
    "sub_df.to_csv('../outputs/single_final_valid_ensemble_thresh-0.725_concat_10class.csv',header=None,index=False,encoding='utf-8')"
   ]
  },
  {
   "cell_type": "code",
   "execution_count": 117,
   "metadata": {},
   "outputs": [
    {
     "data": {
      "text/html": [
       "<div>\n",
       "<style scoped>\n",
       "    .dataframe tbody tr th:only-of-type {\n",
       "        vertical-align: middle;\n",
       "    }\n",
       "\n",
       "    .dataframe tbody tr th {\n",
       "        vertical-align: top;\n",
       "    }\n",
       "\n",
       "    .dataframe thead th {\n",
       "        text-align: right;\n",
       "    }\n",
       "</style>\n",
       "<table border=\"1\" class=\"dataframe\">\n",
       "  <thead>\n",
       "    <tr style=\"text-align: right;\">\n",
       "      <th></th>\n",
       "      <th>id</th>\n",
       "      <th>score</th>\n",
       "    </tr>\n",
       "  </thead>\n",
       "  <tbody>\n",
       "    <tr>\n",
       "      <th>0</th>\n",
       "      <td>3K8CQCU3KE19US5SN890DFPK3SANWR</td>\n",
       "      <td>0.152763</td>\n",
       "    </tr>\n",
       "    <tr>\n",
       "      <th>1</th>\n",
       "      <td>3Q2T3FD0ON86LCI41NJYV3PN0BW3MV</td>\n",
       "      <td>0.159093</td>\n",
       "    </tr>\n",
       "    <tr>\n",
       "      <th>2</th>\n",
       "      <td>3ULIZ0H1VA5C32JJMKOTQ8Z4GUS51B</td>\n",
       "      <td>0.154279</td>\n",
       "    </tr>\n",
       "    <tr>\n",
       "      <th>3</th>\n",
       "      <td>3BFF0DJK8XCEIOT30ZLBPPSRMZQTSD</td>\n",
       "      <td>0.154339</td>\n",
       "    </tr>\n",
       "    <tr>\n",
       "      <th>4</th>\n",
       "      <td>3QREJ3J433XSBS8QMHAICCR0BQ1LKR</td>\n",
       "      <td>0.190026</td>\n",
       "    </tr>\n",
       "  </tbody>\n",
       "</table>\n",
       "</div>"
      ],
      "text/plain": [
       "                               id     score\n",
       "0  3K8CQCU3KE19US5SN890DFPK3SANWR  0.152763\n",
       "1  3Q2T3FD0ON86LCI41NJYV3PN0BW3MV  0.159093\n",
       "2  3ULIZ0H1VA5C32JJMKOTQ8Z4GUS51B  0.154279\n",
       "3  3BFF0DJK8XCEIOT30ZLBPPSRMZQTSD  0.154339\n",
       "4  3QREJ3J433XSBS8QMHAICCR0BQ1LKR  0.190026"
      ]
     },
     "execution_count": 117,
     "metadata": {},
     "output_type": "execute_result"
    }
   ],
   "source": [
    "sub_df = pd.DataFrame(columns = ['id','score'])\n",
    "f = best_f\n",
    "preds1_n_t = preds1_t * (f)\n",
    "preds2_n_t = np.array(preds2_t) * (1-f)\n",
    "sub_df['id'] = test_df['id']\n",
    "sub_df['score'] = preds1_n_t + preds2_n_t\n",
    "sub_df.head()"
   ]
  },
  {
   "cell_type": "code",
   "execution_count": 118,
   "metadata": {},
   "outputs": [],
   "source": [
    "sub_df.to_csv('../outputs/single_final_test_ensemble_thresh-0.725_concat_10class.csv',header=None,index=False,encoding='utf-8')"
   ]
  },
  {
   "cell_type": "code",
   "execution_count": null,
   "metadata": {},
   "outputs": [],
   "source": []
  }
 ],
 "metadata": {
  "kernelspec": {
   "display_name": "Python 3",
   "language": "python",
   "name": "python3"
  },
  "language_info": {
   "codemirror_mode": {
    "name": "ipython",
    "version": 3
   },
   "file_extension": ".py",
   "mimetype": "text/x-python",
   "name": "python",
   "nbconvert_exporter": "python",
   "pygments_lexer": "ipython3",
   "version": "3.6.9"
  }
 },
 "nbformat": 4,
 "nbformat_minor": 4
}
